{
 "cells": [
  {
   "cell_type": "code",
   "execution_count": 2,
   "id": "6b735e00",
   "metadata": {},
   "outputs": [],
   "source": [
    "import pandas as pd\n",
    "import matplotlib.pyplot as plt"
   ]
  },
  {
   "cell_type": "code",
   "execution_count": 35,
   "id": "5184294c",
   "metadata": {},
   "outputs": [],
   "source": [
    "PATH_TO_DATA = './Data/2'\n",
    "\n",
    "\n",
    "orders = pd.read_csv(f'{PATH_TO_DATA}/olist_orders_dataset.csv')\n",
    "customers = pd.read_csv(f'{PATH_TO_DATA}/olist_customers_dataset.csv')\n",
    "order_items = pd.read_csv(f'{PATH_TO_DATA}/olist_order_items_dataset.csv')\n",
    "products = pd.read_csv(f'{PATH_TO_DATA}/olist_products_dataset.csv')\n",
    "sellers = pd.read_csv(f'{PATH_TO_DATA}/olist_sellers_dataset.csv')\n",
    "geolocation = pd.read_csv(f'{PATH_TO_DATA}/olist_geolocation_dataset.csv')\n",
    "payments = pd.read_csv(f'{PATH_TO_DATA}/olist_order_payments_dataset.csv')\n",
    "reviews = pd.read_csv(f'{PATH_TO_DATA}/olist_order_reviews_dataset.csv')\n",
    "cat_name_trans = pd.read_csv(f'{PATH_TO_DATA}/product_category_name_translation.csv')"
   ]
  },
  {
   "cell_type": "markdown",
   "id": "e44b451f",
   "metadata": {},
   "source": [
    "## Analyse customers"
   ]
  },
  {
   "cell_type": "code",
   "execution_count": 4,
   "id": "ee7eb141",
   "metadata": {},
   "outputs": [
    {
     "data": {
      "text/html": [
       "<div>\n",
       "<style scoped>\n",
       "    .dataframe tbody tr th:only-of-type {\n",
       "        vertical-align: middle;\n",
       "    }\n",
       "\n",
       "    .dataframe tbody tr th {\n",
       "        vertical-align: top;\n",
       "    }\n",
       "\n",
       "    .dataframe thead th {\n",
       "        text-align: right;\n",
       "    }\n",
       "</style>\n",
       "<table border=\"1\" class=\"dataframe\">\n",
       "  <thead>\n",
       "    <tr style=\"text-align: right;\">\n",
       "      <th></th>\n",
       "      <th>customer_id</th>\n",
       "      <th>customer_unique_id</th>\n",
       "      <th>customer_zip_code_prefix</th>\n",
       "      <th>customer_city</th>\n",
       "      <th>customer_state</th>\n",
       "    </tr>\n",
       "  </thead>\n",
       "  <tbody>\n",
       "    <tr>\n",
       "      <th>0</th>\n",
       "      <td>06b8999e2fba1a1fbc88172c00ba8bc7</td>\n",
       "      <td>861eff4711a542e4b93843c6dd7febb0</td>\n",
       "      <td>14409</td>\n",
       "      <td>franca</td>\n",
       "      <td>SP</td>\n",
       "    </tr>\n",
       "    <tr>\n",
       "      <th>1</th>\n",
       "      <td>18955e83d337fd6b2def6b18a428ac77</td>\n",
       "      <td>290c77bc529b7ac935b93aa66c333dc3</td>\n",
       "      <td>9790</td>\n",
       "      <td>sao bernardo do campo</td>\n",
       "      <td>SP</td>\n",
       "    </tr>\n",
       "    <tr>\n",
       "      <th>2</th>\n",
       "      <td>4e7b3e00288586ebd08712fdd0374a03</td>\n",
       "      <td>060e732b5b29e8181a18229c7b0b2b5e</td>\n",
       "      <td>1151</td>\n",
       "      <td>sao paulo</td>\n",
       "      <td>SP</td>\n",
       "    </tr>\n",
       "    <tr>\n",
       "      <th>3</th>\n",
       "      <td>b2b6027bc5c5109e529d4dc6358b12c3</td>\n",
       "      <td>259dac757896d24d7702b9acbbff3f3c</td>\n",
       "      <td>8775</td>\n",
       "      <td>mogi das cruzes</td>\n",
       "      <td>SP</td>\n",
       "    </tr>\n",
       "    <tr>\n",
       "      <th>4</th>\n",
       "      <td>4f2d8ab171c80ec8364f7c12e35b23ad</td>\n",
       "      <td>345ecd01c38d18a9036ed96c73b8d066</td>\n",
       "      <td>13056</td>\n",
       "      <td>campinas</td>\n",
       "      <td>SP</td>\n",
       "    </tr>\n",
       "  </tbody>\n",
       "</table>\n",
       "</div>"
      ],
      "text/plain": [
       "                        customer_id                customer_unique_id  \\\n",
       "0  06b8999e2fba1a1fbc88172c00ba8bc7  861eff4711a542e4b93843c6dd7febb0   \n",
       "1  18955e83d337fd6b2def6b18a428ac77  290c77bc529b7ac935b93aa66c333dc3   \n",
       "2  4e7b3e00288586ebd08712fdd0374a03  060e732b5b29e8181a18229c7b0b2b5e   \n",
       "3  b2b6027bc5c5109e529d4dc6358b12c3  259dac757896d24d7702b9acbbff3f3c   \n",
       "4  4f2d8ab171c80ec8364f7c12e35b23ad  345ecd01c38d18a9036ed96c73b8d066   \n",
       "\n",
       "   customer_zip_code_prefix          customer_city customer_state  \n",
       "0                     14409                 franca             SP  \n",
       "1                      9790  sao bernardo do campo             SP  \n",
       "2                      1151              sao paulo             SP  \n",
       "3                      8775        mogi das cruzes             SP  \n",
       "4                     13056               campinas             SP  "
      ]
     },
     "execution_count": 4,
     "metadata": {},
     "output_type": "execute_result"
    }
   ],
   "source": [
    "customers.head()"
   ]
  },
  {
   "cell_type": "code",
   "execution_count": 5,
   "id": "60310a8d",
   "metadata": {},
   "outputs": [
    {
     "name": "stdout",
     "output_type": "stream",
     "text": [
      "<class 'pandas.core.frame.DataFrame'>\n",
      "RangeIndex: 99441 entries, 0 to 99440\n",
      "Data columns (total 5 columns):\n",
      " #   Column                    Non-Null Count  Dtype \n",
      "---  ------                    --------------  ----- \n",
      " 0   customer_id               99441 non-null  object\n",
      " 1   customer_unique_id        99441 non-null  object\n",
      " 2   customer_zip_code_prefix  99441 non-null  int64 \n",
      " 3   customer_city             99441 non-null  object\n",
      " 4   customer_state            99441 non-null  object\n",
      "dtypes: int64(1), object(4)\n",
      "memory usage: 3.8+ MB\n"
     ]
    }
   ],
   "source": [
    "customers.info()"
   ]
  },
  {
   "cell_type": "code",
   "execution_count": 6,
   "id": "a0695a1d",
   "metadata": {},
   "outputs": [
    {
     "data": {
      "text/plain": [
       "customer_id                 0\n",
       "customer_unique_id          0\n",
       "customer_zip_code_prefix    0\n",
       "customer_city               0\n",
       "customer_state              0\n",
       "dtype: int64"
      ]
     },
     "execution_count": 6,
     "metadata": {},
     "output_type": "execute_result"
    }
   ],
   "source": [
    "customers.isna().sum()"
   ]
  },
  {
   "cell_type": "code",
   "execution_count": 10,
   "id": "be99a8fa",
   "metadata": {},
   "outputs": [
    {
     "data": {
      "text/plain": [
       "99441"
      ]
     },
     "execution_count": 10,
     "metadata": {},
     "output_type": "execute_result"
    }
   ],
   "source": [
    "len(customers['customer_id'].unique())"
   ]
  },
  {
   "cell_type": "markdown",
   "id": "3e0df5f9",
   "metadata": {},
   "source": [
    "This shows we have 99441 unique customers."
   ]
  },
  {
   "cell_type": "code",
   "execution_count": 13,
   "id": "537d71ea",
   "metadata": {},
   "outputs": [
    {
     "data": {
      "text/html": [
       "<div>\n",
       "<style scoped>\n",
       "    .dataframe tbody tr th:only-of-type {\n",
       "        vertical-align: middle;\n",
       "    }\n",
       "\n",
       "    .dataframe tbody tr th {\n",
       "        vertical-align: top;\n",
       "    }\n",
       "\n",
       "    .dataframe thead th {\n",
       "        text-align: right;\n",
       "    }\n",
       "</style>\n",
       "<table border=\"1\" class=\"dataframe\">\n",
       "  <thead>\n",
       "    <tr style=\"text-align: right;\">\n",
       "      <th></th>\n",
       "      <th>customer_city</th>\n",
       "      <th>customers_count</th>\n",
       "      <th>'% Customers count</th>\n",
       "    </tr>\n",
       "  </thead>\n",
       "  <tbody>\n",
       "    <tr>\n",
       "      <th>22</th>\n",
       "      <td>acucena</td>\n",
       "      <td>1</td>\n",
       "      <td>0.001006</td>\n",
       "    </tr>\n",
       "    <tr>\n",
       "      <th>4113</th>\n",
       "      <td>xexeu</td>\n",
       "      <td>1</td>\n",
       "      <td>0.001006</td>\n",
       "    </tr>\n",
       "    <tr>\n",
       "      <th>44</th>\n",
       "      <td>agua preta</td>\n",
       "      <td>1</td>\n",
       "      <td>0.001006</td>\n",
       "    </tr>\n",
       "    <tr>\n",
       "      <th>43</th>\n",
       "      <td>agua nova</td>\n",
       "      <td>1</td>\n",
       "      <td>0.001006</td>\n",
       "    </tr>\n",
       "    <tr>\n",
       "      <th>42</th>\n",
       "      <td>agua limpa</td>\n",
       "      <td>1</td>\n",
       "      <td>0.001006</td>\n",
       "    </tr>\n",
       "    <tr>\n",
       "      <th>...</th>\n",
       "      <td>...</td>\n",
       "      <td>...</td>\n",
       "      <td>...</td>\n",
       "    </tr>\n",
       "    <tr>\n",
       "      <th>1143</th>\n",
       "      <td>curitiba</td>\n",
       "      <td>1521</td>\n",
       "      <td>1.529550</td>\n",
       "    </tr>\n",
       "    <tr>\n",
       "      <th>558</th>\n",
       "      <td>brasilia</td>\n",
       "      <td>2131</td>\n",
       "      <td>2.142979</td>\n",
       "    </tr>\n",
       "    <tr>\n",
       "      <th>453</th>\n",
       "      <td>belo horizonte</td>\n",
       "      <td>2773</td>\n",
       "      <td>2.788588</td>\n",
       "    </tr>\n",
       "    <tr>\n",
       "      <th>3155</th>\n",
       "      <td>rio de janeiro</td>\n",
       "      <td>6882</td>\n",
       "      <td>6.920687</td>\n",
       "    </tr>\n",
       "    <tr>\n",
       "      <th>3597</th>\n",
       "      <td>sao paulo</td>\n",
       "      <td>15540</td>\n",
       "      <td>15.627357</td>\n",
       "    </tr>\n",
       "  </tbody>\n",
       "</table>\n",
       "<p>4119 rows × 3 columns</p>\n",
       "</div>"
      ],
      "text/plain": [
       "       customer_city  customers_count  '% Customers count\n",
       "22           acucena                1            0.001006\n",
       "4113           xexeu                1            0.001006\n",
       "44        agua preta                1            0.001006\n",
       "43         agua nova                1            0.001006\n",
       "42        agua limpa                1            0.001006\n",
       "...              ...              ...                 ...\n",
       "1143        curitiba             1521            1.529550\n",
       "558         brasilia             2131            2.142979\n",
       "453   belo horizonte             2773            2.788588\n",
       "3155  rio de janeiro             6882            6.920687\n",
       "3597       sao paulo            15540           15.627357\n",
       "\n",
       "[4119 rows x 3 columns]"
      ]
     },
     "execution_count": 13,
     "metadata": {},
     "output_type": "execute_result"
    }
   ],
   "source": [
    "customers_city = customers.groupby(customers['customer_city']).count()['customer_id'].reset_index()\n",
    "customers_city = customers_city.rename({\"customer_id\":\"customers_count\"}, axis=1)\n",
    "customers_city[\"'% Customers count\"] = (customers_city['customers_count'] / len(customers)) * 100\n",
    "customers_city.sort_values('customers_count')"
   ]
  },
  {
   "cell_type": "markdown",
   "id": "a0939581",
   "metadata": {},
   "source": [
    "sao paulo is leading with customers with 15% market cap."
   ]
  },
  {
   "cell_type": "markdown",
   "id": "7fea8f43",
   "metadata": {},
   "source": [
    "## Analyse Orders"
   ]
  },
  {
   "cell_type": "code",
   "execution_count": 36,
   "id": "41e403df",
   "metadata": {},
   "outputs": [
    {
     "data": {
      "text/html": [
       "<div>\n",
       "<style scoped>\n",
       "    .dataframe tbody tr th:only-of-type {\n",
       "        vertical-align: middle;\n",
       "    }\n",
       "\n",
       "    .dataframe tbody tr th {\n",
       "        vertical-align: top;\n",
       "    }\n",
       "\n",
       "    .dataframe thead th {\n",
       "        text-align: right;\n",
       "    }\n",
       "</style>\n",
       "<table border=\"1\" class=\"dataframe\">\n",
       "  <thead>\n",
       "    <tr style=\"text-align: right;\">\n",
       "      <th></th>\n",
       "      <th>order_id</th>\n",
       "      <th>customer_id</th>\n",
       "      <th>order_status</th>\n",
       "      <th>order_purchase_timestamp</th>\n",
       "      <th>order_approved_at</th>\n",
       "      <th>order_delivered_carrier_date</th>\n",
       "      <th>order_delivered_customer_date</th>\n",
       "      <th>order_estimated_delivery_date</th>\n",
       "    </tr>\n",
       "  </thead>\n",
       "  <tbody>\n",
       "    <tr>\n",
       "      <th>0</th>\n",
       "      <td>e481f51cbdc54678b7cc49136f2d6af7</td>\n",
       "      <td>9ef432eb6251297304e76186b10a928d</td>\n",
       "      <td>delivered</td>\n",
       "      <td>2017-10-02 10:56:33</td>\n",
       "      <td>2017-10-02 11:07:15</td>\n",
       "      <td>2017-10-04 19:55:00</td>\n",
       "      <td>2017-10-10 21:25:13</td>\n",
       "      <td>2017-10-18 00:00:00</td>\n",
       "    </tr>\n",
       "    <tr>\n",
       "      <th>1</th>\n",
       "      <td>53cdb2fc8bc7dce0b6741e2150273451</td>\n",
       "      <td>b0830fb4747a6c6d20dea0b8c802d7ef</td>\n",
       "      <td>delivered</td>\n",
       "      <td>2018-07-24 20:41:37</td>\n",
       "      <td>2018-07-26 03:24:27</td>\n",
       "      <td>2018-07-26 14:31:00</td>\n",
       "      <td>2018-08-07 15:27:45</td>\n",
       "      <td>2018-08-13 00:00:00</td>\n",
       "    </tr>\n",
       "    <tr>\n",
       "      <th>2</th>\n",
       "      <td>47770eb9100c2d0c44946d9cf07ec65d</td>\n",
       "      <td>41ce2a54c0b03bf3443c3d931a367089</td>\n",
       "      <td>delivered</td>\n",
       "      <td>2018-08-08 08:38:49</td>\n",
       "      <td>2018-08-08 08:55:23</td>\n",
       "      <td>2018-08-08 13:50:00</td>\n",
       "      <td>2018-08-17 18:06:29</td>\n",
       "      <td>2018-09-04 00:00:00</td>\n",
       "    </tr>\n",
       "    <tr>\n",
       "      <th>3</th>\n",
       "      <td>949d5b44dbf5de918fe9c16f97b45f8a</td>\n",
       "      <td>f88197465ea7920adcdbec7375364d82</td>\n",
       "      <td>delivered</td>\n",
       "      <td>2017-11-18 19:28:06</td>\n",
       "      <td>2017-11-18 19:45:59</td>\n",
       "      <td>2017-11-22 13:39:59</td>\n",
       "      <td>2017-12-02 00:28:42</td>\n",
       "      <td>2017-12-15 00:00:00</td>\n",
       "    </tr>\n",
       "    <tr>\n",
       "      <th>4</th>\n",
       "      <td>ad21c59c0840e6cb83a9ceb5573f8159</td>\n",
       "      <td>8ab97904e6daea8866dbdbc4fb7aad2c</td>\n",
       "      <td>delivered</td>\n",
       "      <td>2018-02-13 21:18:39</td>\n",
       "      <td>2018-02-13 22:20:29</td>\n",
       "      <td>2018-02-14 19:46:34</td>\n",
       "      <td>2018-02-16 18:17:02</td>\n",
       "      <td>2018-02-26 00:00:00</td>\n",
       "    </tr>\n",
       "  </tbody>\n",
       "</table>\n",
       "</div>"
      ],
      "text/plain": [
       "                           order_id                       customer_id  \\\n",
       "0  e481f51cbdc54678b7cc49136f2d6af7  9ef432eb6251297304e76186b10a928d   \n",
       "1  53cdb2fc8bc7dce0b6741e2150273451  b0830fb4747a6c6d20dea0b8c802d7ef   \n",
       "2  47770eb9100c2d0c44946d9cf07ec65d  41ce2a54c0b03bf3443c3d931a367089   \n",
       "3  949d5b44dbf5de918fe9c16f97b45f8a  f88197465ea7920adcdbec7375364d82   \n",
       "4  ad21c59c0840e6cb83a9ceb5573f8159  8ab97904e6daea8866dbdbc4fb7aad2c   \n",
       "\n",
       "  order_status order_purchase_timestamp    order_approved_at  \\\n",
       "0    delivered      2017-10-02 10:56:33  2017-10-02 11:07:15   \n",
       "1    delivered      2018-07-24 20:41:37  2018-07-26 03:24:27   \n",
       "2    delivered      2018-08-08 08:38:49  2018-08-08 08:55:23   \n",
       "3    delivered      2017-11-18 19:28:06  2017-11-18 19:45:59   \n",
       "4    delivered      2018-02-13 21:18:39  2018-02-13 22:20:29   \n",
       "\n",
       "  order_delivered_carrier_date order_delivered_customer_date  \\\n",
       "0          2017-10-04 19:55:00           2017-10-10 21:25:13   \n",
       "1          2018-07-26 14:31:00           2018-08-07 15:27:45   \n",
       "2          2018-08-08 13:50:00           2018-08-17 18:06:29   \n",
       "3          2017-11-22 13:39:59           2017-12-02 00:28:42   \n",
       "4          2018-02-14 19:46:34           2018-02-16 18:17:02   \n",
       "\n",
       "  order_estimated_delivery_date  \n",
       "0           2017-10-18 00:00:00  \n",
       "1           2018-08-13 00:00:00  \n",
       "2           2018-09-04 00:00:00  \n",
       "3           2017-12-15 00:00:00  \n",
       "4           2018-02-26 00:00:00  "
      ]
     },
     "execution_count": 36,
     "metadata": {},
     "output_type": "execute_result"
    }
   ],
   "source": [
    "orders.head()"
   ]
  },
  {
   "cell_type": "code",
   "execution_count": 37,
   "id": "56af70a5",
   "metadata": {},
   "outputs": [
    {
     "data": {
      "text/html": [
       "<div>\n",
       "<style scoped>\n",
       "    .dataframe tbody tr th:only-of-type {\n",
       "        vertical-align: middle;\n",
       "    }\n",
       "\n",
       "    .dataframe tbody tr th {\n",
       "        vertical-align: top;\n",
       "    }\n",
       "\n",
       "    .dataframe thead th {\n",
       "        text-align: right;\n",
       "    }\n",
       "</style>\n",
       "<table border=\"1\" class=\"dataframe\">\n",
       "  <thead>\n",
       "    <tr style=\"text-align: right;\">\n",
       "      <th></th>\n",
       "      <th>Column</th>\n",
       "      <th>Null</th>\n",
       "      <th>'%' Null Rate</th>\n",
       "    </tr>\n",
       "  </thead>\n",
       "  <tbody>\n",
       "    <tr>\n",
       "      <th>0</th>\n",
       "      <td>order_id</td>\n",
       "      <td>0</td>\n",
       "      <td>0.000000</td>\n",
       "    </tr>\n",
       "    <tr>\n",
       "      <th>1</th>\n",
       "      <td>customer_id</td>\n",
       "      <td>0</td>\n",
       "      <td>0.000000</td>\n",
       "    </tr>\n",
       "    <tr>\n",
       "      <th>2</th>\n",
       "      <td>order_status</td>\n",
       "      <td>0</td>\n",
       "      <td>0.000000</td>\n",
       "    </tr>\n",
       "    <tr>\n",
       "      <th>3</th>\n",
       "      <td>order_purchase_timestamp</td>\n",
       "      <td>0</td>\n",
       "      <td>0.000000</td>\n",
       "    </tr>\n",
       "    <tr>\n",
       "      <th>4</th>\n",
       "      <td>order_approved_at</td>\n",
       "      <td>160</td>\n",
       "      <td>0.160899</td>\n",
       "    </tr>\n",
       "    <tr>\n",
       "      <th>5</th>\n",
       "      <td>order_delivered_carrier_date</td>\n",
       "      <td>1783</td>\n",
       "      <td>1.793023</td>\n",
       "    </tr>\n",
       "    <tr>\n",
       "      <th>6</th>\n",
       "      <td>order_delivered_customer_date</td>\n",
       "      <td>2965</td>\n",
       "      <td>2.981668</td>\n",
       "    </tr>\n",
       "    <tr>\n",
       "      <th>7</th>\n",
       "      <td>order_estimated_delivery_date</td>\n",
       "      <td>0</td>\n",
       "      <td>0.000000</td>\n",
       "    </tr>\n",
       "  </tbody>\n",
       "</table>\n",
       "</div>"
      ],
      "text/plain": [
       "                          Column  Null  '%' Null Rate\n",
       "0                       order_id     0       0.000000\n",
       "1                    customer_id     0       0.000000\n",
       "2                   order_status     0       0.000000\n",
       "3       order_purchase_timestamp     0       0.000000\n",
       "4              order_approved_at   160       0.160899\n",
       "5   order_delivered_carrier_date  1783       1.793023\n",
       "6  order_delivered_customer_date  2965       2.981668\n",
       "7  order_estimated_delivery_date     0       0.000000"
      ]
     },
     "execution_count": 37,
     "metadata": {},
     "output_type": "execute_result"
    }
   ],
   "source": [
    "null_order_fields = orders.isna().sum().reset_index().rename({\"index\":\"Column\", 0:\"Null\"}, axis=1)\n",
    "null_order_fields[\"'%' Null Rate\"] = (null_order_fields[\"Null\"] / len(orders)) * 100\n",
    "null_order_fields"
   ]
  },
  {
   "cell_type": "markdown",
   "id": "ac9239ea",
   "metadata": {},
   "source": [
    "Three columns have null values. We don't need order approved at and order delivered career date for now. Because stakeholders dont have deep operational questions. But we need order_delivered_customer_date which is important to now as customer satisfaction point. As this is very mmin jusr ~3% of data, so we can ignore. Because imputing it may have several issues in decisions."
   ]
  },
  {
   "cell_type": "code",
   "execution_count": 38,
   "id": "02b8e7b3",
   "metadata": {},
   "outputs": [
    {
     "name": "stdout",
     "output_type": "stream",
     "text": [
      "<class 'pandas.core.frame.DataFrame'>\n",
      "RangeIndex: 99441 entries, 0 to 99440\n",
      "Data columns (total 8 columns):\n",
      " #   Column                         Non-Null Count  Dtype \n",
      "---  ------                         --------------  ----- \n",
      " 0   order_id                       99441 non-null  object\n",
      " 1   customer_id                    99441 non-null  object\n",
      " 2   order_status                   99441 non-null  object\n",
      " 3   order_purchase_timestamp       99441 non-null  object\n",
      " 4   order_approved_at              99281 non-null  object\n",
      " 5   order_delivered_carrier_date   97658 non-null  object\n",
      " 6   order_delivered_customer_date  96476 non-null  object\n",
      " 7   order_estimated_delivery_date  99441 non-null  object\n",
      "dtypes: object(8)\n",
      "memory usage: 6.1+ MB\n"
     ]
    }
   ],
   "source": [
    "orders.info()"
   ]
  },
  {
   "cell_type": "code",
   "execution_count": 39,
   "id": "fb405191",
   "metadata": {},
   "outputs": [
    {
     "data": {
      "text/plain": [
       "99441"
      ]
     },
     "execution_count": 39,
     "metadata": {},
     "output_type": "execute_result"
    }
   ],
   "source": [
    "len(orders['order_id'].unique())"
   ]
  },
  {
   "cell_type": "markdown",
   "id": "c67e49fa",
   "metadata": {},
   "source": [
    "There are 99441 unique orders."
   ]
  },
  {
   "cell_type": "markdown",
   "id": "f21cbe5f",
   "metadata": {},
   "source": [
    "**\"Orders and customers have same count 99441, why? Is there no customers who shop again?\"**"
   ]
  },
  {
   "cell_type": "code",
   "execution_count": 40,
   "id": "4a1e28aa",
   "metadata": {},
   "outputs": [
    {
     "data": {
      "text/html": [
       "<div>\n",
       "<style scoped>\n",
       "    .dataframe tbody tr th:only-of-type {\n",
       "        vertical-align: middle;\n",
       "    }\n",
       "\n",
       "    .dataframe tbody tr th {\n",
       "        vertical-align: top;\n",
       "    }\n",
       "\n",
       "    .dataframe thead th {\n",
       "        text-align: right;\n",
       "    }\n",
       "</style>\n",
       "<table border=\"1\" class=\"dataframe\">\n",
       "  <thead>\n",
       "    <tr style=\"text-align: right;\">\n",
       "      <th></th>\n",
       "      <th>order_status</th>\n",
       "      <th>order_count</th>\n",
       "      <th>'%'order_count</th>\n",
       "    </tr>\n",
       "  </thead>\n",
       "  <tbody>\n",
       "    <tr>\n",
       "      <th>0</th>\n",
       "      <td>approved</td>\n",
       "      <td>2</td>\n",
       "      <td>0.002011</td>\n",
       "    </tr>\n",
       "    <tr>\n",
       "      <th>1</th>\n",
       "      <td>canceled</td>\n",
       "      <td>625</td>\n",
       "      <td>0.628513</td>\n",
       "    </tr>\n",
       "    <tr>\n",
       "      <th>2</th>\n",
       "      <td>created</td>\n",
       "      <td>5</td>\n",
       "      <td>0.005028</td>\n",
       "    </tr>\n",
       "    <tr>\n",
       "      <th>3</th>\n",
       "      <td>delivered</td>\n",
       "      <td>96478</td>\n",
       "      <td>97.020344</td>\n",
       "    </tr>\n",
       "    <tr>\n",
       "      <th>4</th>\n",
       "      <td>invoiced</td>\n",
       "      <td>314</td>\n",
       "      <td>0.315765</td>\n",
       "    </tr>\n",
       "    <tr>\n",
       "      <th>5</th>\n",
       "      <td>processing</td>\n",
       "      <td>301</td>\n",
       "      <td>0.302692</td>\n",
       "    </tr>\n",
       "    <tr>\n",
       "      <th>6</th>\n",
       "      <td>shipped</td>\n",
       "      <td>1107</td>\n",
       "      <td>1.113223</td>\n",
       "    </tr>\n",
       "    <tr>\n",
       "      <th>7</th>\n",
       "      <td>unavailable</td>\n",
       "      <td>609</td>\n",
       "      <td>0.612423</td>\n",
       "    </tr>\n",
       "  </tbody>\n",
       "</table>\n",
       "</div>"
      ],
      "text/plain": [
       "  order_status  order_count  '%'order_count\n",
       "0     approved            2        0.002011\n",
       "1     canceled          625        0.628513\n",
       "2      created            5        0.005028\n",
       "3    delivered        96478       97.020344\n",
       "4     invoiced          314        0.315765\n",
       "5   processing          301        0.302692\n",
       "6      shipped         1107        1.113223\n",
       "7  unavailable          609        0.612423"
      ]
     },
     "execution_count": 40,
     "metadata": {},
     "output_type": "execute_result"
    }
   ],
   "source": [
    "order_count = orders.groupby(orders['order_status']).count()['order_id'].reset_index().rename({\"order_id\":\"order_count\"}, axis=1)\n",
    "order_count[\"'%'order_count\"] = (order_count['order_count'] / len(orders)) * 100\n",
    "order_count"
   ]
  },
  {
   "cell_type": "markdown",
   "id": "ea2390b0",
   "metadata": {},
   "source": [
    "order completion rate: 97% orders are delivered. And cancel rate is also very minimum, less then 0."
   ]
  },
  {
   "cell_type": "code",
   "execution_count": 41,
   "id": "54deda57",
   "metadata": {},
   "outputs": [],
   "source": [
    "orders['delivery_time'] = pd.to_datetime(orders['order_delivered_customer_date']) - pd.to_datetime(orders['order_purchase_timestamp']) \n"
   ]
  },
  {
   "cell_type": "code",
   "execution_count": 42,
   "id": "6a7a671e",
   "metadata": {},
   "outputs": [
    {
     "data": {
      "text/plain": [
       "31522   0 days 12:48:07\n",
       "41803   0 days 18:45:10\n",
       "38792   0 days 20:31:39\n",
       "97428   0 days 20:43:20\n",
       "69580   0 days 21:22:41\n",
       "51067   0 days 21:25:11\n",
       "37753   0 days 22:27:49\n",
       "48878   0 days 22:30:59\n",
       "48767   0 days 23:37:30\n",
       "395     0 days 23:39:18\n",
       "Name: delivery_time, dtype: timedelta64[ns]"
      ]
     },
     "execution_count": 42,
     "metadata": {},
     "output_type": "execute_result"
    }
   ],
   "source": [
    "orders['delivery_time'].sort_values().head(10)"
   ]
  },
  {
   "cell_type": "code",
   "execution_count": 43,
   "id": "41c6e496",
   "metadata": {},
   "outputs": [
    {
     "data": {
      "text/plain": [
       "19590   209 days 15:05:12\n",
       "55619   208 days 08:26:32\n",
       "61610   195 days 15:12:59\n",
       "70307   194 days 20:24:15\n",
       "89130   194 days 15:12:24\n",
       "38509   194 days 01:11:24\n",
       "11399   191 days 11:07:30\n",
       "81401   189 days 20:42:57\n",
       "54480   188 days 03:13:51\n",
       "68769   187 days 17:51:08\n",
       "Name: delivery_time, dtype: timedelta64[ns]"
      ]
     },
     "execution_count": 43,
     "metadata": {},
     "output_type": "execute_result"
    }
   ],
   "source": [
    "orders['delivery_time'].sort_values(ascending=False).head(10)"
   ]
  },
  {
   "cell_type": "markdown",
   "id": "4cd436d5",
   "metadata": {},
   "source": [
    "Highest delivery time is drastic."
   ]
  },
  {
   "cell_type": "code",
   "execution_count": 44,
   "id": "6bb7d1ab",
   "metadata": {},
   "outputs": [
    {
     "data": {
      "text/html": [
       "<div>\n",
       "<style scoped>\n",
       "    .dataframe tbody tr th:only-of-type {\n",
       "        vertical-align: middle;\n",
       "    }\n",
       "\n",
       "    .dataframe tbody tr th {\n",
       "        vertical-align: top;\n",
       "    }\n",
       "\n",
       "    .dataframe thead th {\n",
       "        text-align: right;\n",
       "    }\n",
       "</style>\n",
       "<table border=\"1\" class=\"dataframe\">\n",
       "  <thead>\n",
       "    <tr style=\"text-align: right;\">\n",
       "      <th></th>\n",
       "      <th>order_id</th>\n",
       "      <th>delivery_time</th>\n",
       "      <th>customer_city</th>\n",
       "      <th>customer_state</th>\n",
       "    </tr>\n",
       "  </thead>\n",
       "  <tbody>\n",
       "    <tr>\n",
       "      <th>0</th>\n",
       "      <td>e481f51cbdc54678b7cc49136f2d6af7</td>\n",
       "      <td>8 days 10:28:40</td>\n",
       "      <td>sao paulo</td>\n",
       "      <td>SP</td>\n",
       "    </tr>\n",
       "    <tr>\n",
       "      <th>1</th>\n",
       "      <td>53cdb2fc8bc7dce0b6741e2150273451</td>\n",
       "      <td>13 days 18:46:08</td>\n",
       "      <td>barreiras</td>\n",
       "      <td>BA</td>\n",
       "    </tr>\n",
       "    <tr>\n",
       "      <th>2</th>\n",
       "      <td>47770eb9100c2d0c44946d9cf07ec65d</td>\n",
       "      <td>9 days 09:27:40</td>\n",
       "      <td>vianopolis</td>\n",
       "      <td>GO</td>\n",
       "    </tr>\n",
       "    <tr>\n",
       "      <th>3</th>\n",
       "      <td>949d5b44dbf5de918fe9c16f97b45f8a</td>\n",
       "      <td>13 days 05:00:36</td>\n",
       "      <td>sao goncalo do amarante</td>\n",
       "      <td>RN</td>\n",
       "    </tr>\n",
       "    <tr>\n",
       "      <th>4</th>\n",
       "      <td>ad21c59c0840e6cb83a9ceb5573f8159</td>\n",
       "      <td>2 days 20:58:23</td>\n",
       "      <td>santo andre</td>\n",
       "      <td>SP</td>\n",
       "    </tr>\n",
       "  </tbody>\n",
       "</table>\n",
       "</div>"
      ],
      "text/plain": [
       "                           order_id    delivery_time            customer_city  \\\n",
       "0  e481f51cbdc54678b7cc49136f2d6af7  8 days 10:28:40                sao paulo   \n",
       "1  53cdb2fc8bc7dce0b6741e2150273451 13 days 18:46:08                barreiras   \n",
       "2  47770eb9100c2d0c44946d9cf07ec65d  9 days 09:27:40               vianopolis   \n",
       "3  949d5b44dbf5de918fe9c16f97b45f8a 13 days 05:00:36  sao goncalo do amarante   \n",
       "4  ad21c59c0840e6cb83a9ceb5573f8159  2 days 20:58:23              santo andre   \n",
       "\n",
       "  customer_state  \n",
       "0             SP  \n",
       "1             BA  \n",
       "2             GO  \n",
       "3             RN  \n",
       "4             SP  "
      ]
     },
     "execution_count": 44,
     "metadata": {},
     "output_type": "execute_result"
    }
   ],
   "source": [
    "# Merge city and state info from customers into orders based on customer_id\n",
    "orders = orders.merge(\n",
    "    customers[['customer_id', 'customer_city', 'customer_state']],\n",
    "    on='customer_id',\n",
    "    how='left'\n",
    ")\n",
    "\n",
    "orders[['order_id', 'delivery_time', 'customer_city', 'customer_state']].head()"
   ]
  },
  {
   "cell_type": "code",
   "execution_count": 54,
   "id": "10fe14b2",
   "metadata": {},
   "outputs": [
    {
     "data": {
      "text/html": [
       "<div>\n",
       "<style scoped>\n",
       "    .dataframe tbody tr th:only-of-type {\n",
       "        vertical-align: middle;\n",
       "    }\n",
       "\n",
       "    .dataframe tbody tr th {\n",
       "        vertical-align: top;\n",
       "    }\n",
       "\n",
       "    .dataframe thead th {\n",
       "        text-align: right;\n",
       "    }\n",
       "</style>\n",
       "<table border=\"1\" class=\"dataframe\">\n",
       "  <thead>\n",
       "    <tr style=\"text-align: right;\">\n",
       "      <th></th>\n",
       "      <th>customer_city</th>\n",
       "      <th>avg_delivery_time</th>\n",
       "    </tr>\n",
       "  </thead>\n",
       "  <tbody>\n",
       "    <tr>\n",
       "      <th>2548</th>\n",
       "      <td>novo brasil</td>\n",
       "      <td>148 days 04:11:17</td>\n",
       "    </tr>\n",
       "    <tr>\n",
       "      <th>797</th>\n",
       "      <td>capinzal do norte</td>\n",
       "      <td>109 days 01:48:02.500000</td>\n",
       "    </tr>\n",
       "    <tr>\n",
       "      <th>24</th>\n",
       "      <td>adhemar de barros</td>\n",
       "      <td>97 days 11:14:39</td>\n",
       "    </tr>\n",
       "    <tr>\n",
       "      <th>232</th>\n",
       "      <td>arace</td>\n",
       "      <td>86 days 09:41:40.750000</td>\n",
       "    </tr>\n",
       "    <tr>\n",
       "      <th>2221</th>\n",
       "      <td>marcelino vieira</td>\n",
       "      <td>78 days 04:22:39</td>\n",
       "    </tr>\n",
       "    <tr>\n",
       "      <th>3699</th>\n",
       "      <td>serra dos dourados</td>\n",
       "      <td>74 days 16:11:40</td>\n",
       "    </tr>\n",
       "    <tr>\n",
       "      <th>248</th>\n",
       "      <td>aramari</td>\n",
       "      <td>73 days 15:51:50</td>\n",
       "    </tr>\n",
       "    <tr>\n",
       "      <th>1557</th>\n",
       "      <td>humildes</td>\n",
       "      <td>71 days 12:29:46</td>\n",
       "    </tr>\n",
       "    <tr>\n",
       "      <th>3274</th>\n",
       "      <td>santa cruz de goias</td>\n",
       "      <td>67 days 14:00:39</td>\n",
       "    </tr>\n",
       "    <tr>\n",
       "      <th>2152</th>\n",
       "      <td>machadinho</td>\n",
       "      <td>65 days 18:59:54</td>\n",
       "    </tr>\n",
       "    <tr>\n",
       "      <th>3217</th>\n",
       "      <td>rubineia</td>\n",
       "      <td>63 days 20:17:51</td>\n",
       "    </tr>\n",
       "    <tr>\n",
       "      <th>128</th>\n",
       "      <td>alto sao joao</td>\n",
       "      <td>59 days 00:57:38</td>\n",
       "    </tr>\n",
       "    <tr>\n",
       "      <th>1433</th>\n",
       "      <td>glaura</td>\n",
       "      <td>58 days 15:28:06</td>\n",
       "    </tr>\n",
       "    <tr>\n",
       "      <th>2600</th>\n",
       "      <td>ourem</td>\n",
       "      <td>57 days 09:31:00</td>\n",
       "    </tr>\n",
       "    <tr>\n",
       "      <th>3346</th>\n",
       "      <td>santaluz</td>\n",
       "      <td>57 days 06:18:09</td>\n",
       "    </tr>\n",
       "    <tr>\n",
       "      <th>2908</th>\n",
       "      <td>placas</td>\n",
       "      <td>56 days 08:30:52.500000</td>\n",
       "    </tr>\n",
       "    <tr>\n",
       "      <th>1326</th>\n",
       "      <td>felicio dos santos</td>\n",
       "      <td>54 days 20:33:51</td>\n",
       "    </tr>\n",
       "    <tr>\n",
       "      <th>324</th>\n",
       "      <td>assuncao</td>\n",
       "      <td>52 days 23:21:39</td>\n",
       "    </tr>\n",
       "    <tr>\n",
       "      <th>1003</th>\n",
       "      <td>conceicao da feira</td>\n",
       "      <td>52 days 05:35:59</td>\n",
       "    </tr>\n",
       "    <tr>\n",
       "      <th>491</th>\n",
       "      <td>boa vista do gurupi</td>\n",
       "      <td>52 days 02:12:57</td>\n",
       "    </tr>\n",
       "  </tbody>\n",
       "</table>\n",
       "</div>"
      ],
      "text/plain": [
       "            customer_city        avg_delivery_time\n",
       "2548          novo brasil        148 days 04:11:17\n",
       "797     capinzal do norte 109 days 01:48:02.500000\n",
       "24      adhemar de barros         97 days 11:14:39\n",
       "232                 arace  86 days 09:41:40.750000\n",
       "2221     marcelino vieira         78 days 04:22:39\n",
       "3699   serra dos dourados         74 days 16:11:40\n",
       "248               aramari         73 days 15:51:50\n",
       "1557             humildes         71 days 12:29:46\n",
       "3274  santa cruz de goias         67 days 14:00:39\n",
       "2152           machadinho         65 days 18:59:54\n",
       "3217             rubineia         63 days 20:17:51\n",
       "128         alto sao joao         59 days 00:57:38\n",
       "1433               glaura         58 days 15:28:06\n",
       "2600                ourem         57 days 09:31:00\n",
       "3346             santaluz         57 days 06:18:09\n",
       "2908               placas  56 days 08:30:52.500000\n",
       "1326   felicio dos santos         54 days 20:33:51\n",
       "324              assuncao         52 days 23:21:39\n",
       "1003   conceicao da feira         52 days 05:35:59\n",
       "491   boa vista do gurupi         52 days 02:12:57"
      ]
     },
     "execution_count": 54,
     "metadata": {},
     "output_type": "execute_result"
    }
   ],
   "source": [
    "# Group by customer_city and calculate average delivery_time\n",
    "avg_delivery_by_city = orders.groupby('customer_city')['delivery_time'].mean().reset_index()\n",
    "avg_delivery_by_city = avg_delivery_by_city.rename(columns={'delivery_time': 'avg_delivery_time'})\n",
    "avg_delivery_by_city.sort_values('avg_delivery_time', ascending=False).head(20)"
   ]
  },
  {
   "cell_type": "code",
   "execution_count": null,
   "id": "7612d888",
   "metadata": {},
   "outputs": [
    {
     "data": {
      "text/html": [
       "<div>\n",
       "<style scoped>\n",
       "    .dataframe tbody tr th:only-of-type {\n",
       "        vertical-align: middle;\n",
       "    }\n",
       "\n",
       "    .dataframe tbody tr th {\n",
       "        vertical-align: top;\n",
       "    }\n",
       "\n",
       "    .dataframe thead th {\n",
       "        text-align: right;\n",
       "    }\n",
       "</style>\n",
       "<table border=\"1\" class=\"dataframe\">\n",
       "  <thead>\n",
       "    <tr style=\"text-align: right;\">\n",
       "      <th></th>\n",
       "      <th>customer_city</th>\n",
       "      <th>avg_delivery_time</th>\n",
       "    </tr>\n",
       "  </thead>\n",
       "  <tbody>\n",
       "    <tr>\n",
       "      <th>1681</th>\n",
       "      <td>iomere</td>\n",
       "      <td>2 days 23:14:48</td>\n",
       "    </tr>\n",
       "    <tr>\n",
       "      <th>3742</th>\n",
       "      <td>siriji</td>\n",
       "      <td>3 days 03:43:20</td>\n",
       "    </tr>\n",
       "    <tr>\n",
       "      <th>22</th>\n",
       "      <td>acucena</td>\n",
       "      <td>3 days 17:28:28</td>\n",
       "    </tr>\n",
       "    <tr>\n",
       "      <th>2760</th>\n",
       "      <td>pedra bela</td>\n",
       "      <td>3 days 19:54:07</td>\n",
       "    </tr>\n",
       "    <tr>\n",
       "      <th>1042</th>\n",
       "      <td>contenda</td>\n",
       "      <td>3 days 22:02:35</td>\n",
       "    </tr>\n",
       "    <tr>\n",
       "      <th>...</th>\n",
       "      <td>...</td>\n",
       "      <td>...</td>\n",
       "    </tr>\n",
       "    <tr>\n",
       "      <th>3383</th>\n",
       "      <td>santo antonio de goias</td>\n",
       "      <td>NaT</td>\n",
       "    </tr>\n",
       "    <tr>\n",
       "      <th>3446</th>\n",
       "      <td>sao domingos do sul</td>\n",
       "      <td>NaT</td>\n",
       "    </tr>\n",
       "    <tr>\n",
       "      <th>3453</th>\n",
       "      <td>sao fernando</td>\n",
       "      <td>NaT</td>\n",
       "    </tr>\n",
       "    <tr>\n",
       "      <th>3463</th>\n",
       "      <td>sao francisco do humaita</td>\n",
       "      <td>NaT</td>\n",
       "    </tr>\n",
       "    <tr>\n",
       "      <th>3497</th>\n",
       "      <td>sao joao do itaperiu</td>\n",
       "      <td>NaT</td>\n",
       "    </tr>\n",
       "  </tbody>\n",
       "</table>\n",
       "<p>4119 rows × 2 columns</p>\n",
       "</div>"
      ],
      "text/plain": [
       "                 customer_city avg_delivery_time\n",
       "1681                    iomere   2 days 23:14:48\n",
       "3742                    siriji   3 days 03:43:20\n",
       "22                     acucena   3 days 17:28:28\n",
       "2760                pedra bela   3 days 19:54:07\n",
       "1042                  contenda   3 days 22:02:35\n",
       "...                        ...               ...\n",
       "3383    santo antonio de goias               NaT\n",
       "3446       sao domingos do sul               NaT\n",
       "3453              sao fernando               NaT\n",
       "3463  sao francisco do humaita               NaT\n",
       "3497      sao joao do itaperiu               NaT\n",
       "\n",
       "[4119 rows x 2 columns]"
      ]
     },
     "execution_count": 53,
     "metadata": {},
     "output_type": "execute_result"
    }
   ],
   "source": [
    "avg_delivery_by_city.sort_values('avg_delivery_time', ascending=True).head(20)"
   ]
  },
  {
   "cell_type": "code",
   "execution_count": 57,
   "id": "3b5a4ca9",
   "metadata": {},
   "outputs": [
    {
     "name": "stdout",
     "output_type": "stream",
     "text": [
      "Average delivery time for sao paulo: 3597   8 days 01:37:41.070849395\n",
      "Name: avg_delivery_time, dtype: timedelta64[ns]\n"
     ]
    }
   ],
   "source": [
    "# Calculate average delivery time for 'sao paulo'\n",
    "sao_paulo_avg_delivery = avg_delivery_by_city.loc[avg_delivery_by_city['customer_city'] == 'sao paulo', 'avg_delivery_time']\n",
    "print(f\"Average delivery time for sao paulo: {sao_paulo_avg_delivery}\")"
   ]
  },
  {
   "cell_type": "code",
   "execution_count": 45,
   "id": "afddb6ab",
   "metadata": {},
   "outputs": [],
   "source": [
    "orders['order_purchase_timestamp'] = pd.to_datetime(orders['order_purchase_timestamp'])\n",
    "\n",
    "\n",
    "# Extract date/time features\n",
    "orders['year'] = orders['order_purchase_timestamp'].dt.year\n",
    "orders['month'] = orders['order_purchase_timestamp'].dt.month\n",
    "orders['day'] = orders['order_purchase_timestamp'].dt.day\n",
    "orders['hour'] = orders['order_purchase_timestamp'].dt.hour\n",
    "orders['day_of_week'] = orders['order_purchase_timestamp'].dt.dayofweek  # Monday=0, Sunday=6\n",
    "orders['day_name'] = orders['order_purchase_timestamp'].dt.day_name()\n",
    "orders['week_of_year'] = orders['order_purchase_timestamp'].dt.isocalendar().week\n",
    "orders['quarter'] = orders['order_purchase_timestamp'].dt.quarter"
   ]
  },
  {
   "cell_type": "markdown",
   "id": "781ed7b8",
   "metadata": {},
   "source": [
    "**Data is Augmented to break down and view more insights.**"
   ]
  },
  {
   "cell_type": "code",
   "execution_count": 46,
   "id": "6fc6dd75",
   "metadata": {},
   "outputs": [
    {
     "data": {
      "text/plain": [
       "[<matplotlib.lines.Line2D at 0x18800855310>]"
      ]
     },
     "execution_count": 46,
     "metadata": {},
     "output_type": "execute_result"
    },
    {
     "data": {
      "image/png": "[encoded data removed]",
      "text/plain": [
       "<Figure size 640x480 with 1 Axes>"
      ]
     },
     "metadata": {},
     "output_type": "display_data"
    }
   ],
   "source": [
    "hourly_purchases = orders['hour'].value_counts().sort_index()\n",
    "plt.plot(hourly_purchases.index, hourly_purchases.values, color='skyblue')"
   ]
  },
  {
   "cell_type": "markdown",
   "id": "c500cce9",
   "metadata": {},
   "source": [
    "Sales Rises after 5Am then this remains at peak untill midnight. "
   ]
  },
  {
   "cell_type": "code",
   "execution_count": 47,
   "id": "12b1b1c1",
   "metadata": {},
   "outputs": [
    {
     "data": {
      "text/plain": [
       "<BarContainer object of 7 artists>"
      ]
     },
     "execution_count": 47,
     "metadata": {},
     "output_type": "execute_result"
    },
    {
     "data": {
      "image/png": "[encoded data removed]",
      "text/plain": [
       "<Figure size 640x480 with 1 Axes>"
      ]
     },
     "metadata": {},
     "output_type": "display_data"
    }
   ],
   "source": [
    "daily_purchases = orders['day_of_week'].value_counts().sort_index()\n",
    "day_labels = ['Monday', 'Tuesday', 'Wednesday', 'Thursday', 'Friday', 'Saturday', 'Sunday']\n",
    "plt.bar(day_labels, daily_purchases.values, color='lightgreen')"
   ]
  },
  {
   "cell_type": "markdown",
   "id": "769efb8b",
   "metadata": {},
   "source": [
    "Early weekdays are most rewarding."
   ]
  },
  {
   "cell_type": "code",
   "execution_count": 48,
   "id": "e1f1bdcc",
   "metadata": {},
   "outputs": [
    {
     "data": {
      "text/plain": [
       "<BarContainer object of 12 artists>"
      ]
     },
     "execution_count": 48,
     "metadata": {},
     "output_type": "execute_result"
    },
    {
     "data": {
      "image/png": "[encoded data removed]",
      "text/plain": [
       "<Figure size 640x480 with 1 Axes>"
      ]
     },
     "metadata": {},
     "output_type": "display_data"
    }
   ],
   "source": [
    "monthly_purchases = orders['month'].value_counts().sort_index()\n",
    "month_labels = ['Jan', 'Feb', 'Mar', 'Apr', 'May', 'Jun', 'Jul', 'Aug', 'Sep', 'Oct', 'Nov', 'Dec']\n",
    "plt.bar(month_labels, monthly_purchases.values, color='salmon')"
   ]
  },
  {
   "cell_type": "markdown",
   "id": "e2967dd9",
   "metadata": {},
   "source": [
    "Summemr is most rewarding."
   ]
  },
  {
   "cell_type": "code",
   "execution_count": 49,
   "id": "401a8db1",
   "metadata": {},
   "outputs": [
    {
     "data": {
      "text/plain": [
       "<BarContainer object of 3 artists>"
      ]
     },
     "execution_count": 49,
     "metadata": {},
     "output_type": "execute_result"
    },
    {
     "data": {
      "image/png": "[encoded data removed]",
      "text/plain": [
       "<Figure size 640x480 with 1 Axes>"
      ]
     },
     "metadata": {},
     "output_type": "display_data"
    }
   ],
   "source": [
    "yearly_purchases = orders['year'].value_counts().sort_index()\n",
    "plt.bar(yearly_purchases.index.astype(str), yearly_purchases.values, color='gold')"
   ]
  },
  {
   "cell_type": "code",
   "execution_count": 50,
   "id": "d9a8c3aa",
   "metadata": {},
   "outputs": [
    {
     "data": {
      "text/plain": [
       "([<matplotlib.patches.Wedge at 0x18800b18f50>,\n",
       "  <matplotlib.patches.Wedge at 0x18800b19310>,\n",
       "  <matplotlib.patches.Wedge at 0x18800b196d0>,\n",
       "  <matplotlib.patches.Wedge at 0x18800b19a90>],\n",
       " [Text(0.7372720824613642, 0.8163515642314183, 'Q1'),\n",
       "  Text(-0.9420408320262879, 0.5679428411338763, 'Q2'),\n",
       "  Text(-0.4103141231116002, -1.0206087988917, 'Q3'),\n",
       "  Text(0.9235556351072889, -0.5975324165780233, 'Q4')],\n",
       " [Text(0.4021484086152895, 0.44528267139895544, '26.6%'),\n",
       "  Text(-0.5138404538325205, 0.30978700425484157, '29.5%'),\n",
       "  Text(-0.22380770351541826, -0.5566957084863818, '25.6%'),\n",
       "  Text(0.5037576191494302, -0.32592677267892173, '18.3%')])"
      ]
     },
     "execution_count": 50,
     "metadata": {},
     "output_type": "execute_result"
    },
    {
     "data": {
      "image/png": "[encoded data removed]",
      "text/plain": [
       "<Figure size 640x480 with 1 Axes>"
      ]
     },
     "metadata": {},
     "output_type": "display_data"
    }
   ],
   "source": [
    "quarterly_purchases = orders['quarter'].value_counts().sort_index()\n",
    "plt.pie(quarterly_purchases.values, labels=['Q1', 'Q2', 'Q3', 'Q4'], autopct='%1.1f%%', colors=['#ff9999','#66b3ff','#99ff99','#ffcc99'])"
   ]
  },
  {
   "cell_type": "code",
   "execution_count": 51,
   "id": "f9024139",
   "metadata": {},
   "outputs": [
    {
     "data": {
      "text/plain": [
       "<Axes: xlabel='hour', ylabel='day_of_week'>"
      ]
     },
     "execution_count": 51,
     "metadata": {},
     "output_type": "execute_result"
    },
    {
     "data": {
      "image/png": "[encoded data removed]",
      "text/plain": [
       "<Figure size 640x480 with 2 Axes>"
      ]
     },
     "metadata": {},
     "output_type": "display_data"
    }
   ],
   "source": [
    "import seaborn as sns\n",
    "pivot_table = orders.groupby(['day_of_week', 'hour']).size().unstack(fill_value=0)\n",
    "sns.heatmap(pivot_table, cmap=\"YlGnBu\")"
   ]
  },
  {
   "cell_type": "markdown",
   "id": "59563427",
   "metadata": {},
   "source": [
    "## Analyse Order items"
   ]
  },
  {
   "cell_type": "code",
   "execution_count": 75,
   "id": "2667aaed",
   "metadata": {},
   "outputs": [
    {
     "data": {
      "text/html": [
       "<div>\n",
       "<style scoped>\n",
       "    .dataframe tbody tr th:only-of-type {\n",
       "        vertical-align: middle;\n",
       "    }\n",
       "\n",
       "    .dataframe tbody tr th {\n",
       "        vertical-align: top;\n",
       "    }\n",
       "\n",
       "    .dataframe thead th {\n",
       "        text-align: right;\n",
       "    }\n",
       "</style>\n",
       "<table border=\"1\" class=\"dataframe\">\n",
       "  <thead>\n",
       "    <tr style=\"text-align: right;\">\n",
       "      <th></th>\n",
       "      <th>order_id</th>\n",
       "      <th>order_item_id</th>\n",
       "      <th>product_id</th>\n",
       "      <th>seller_id</th>\n",
       "      <th>shipping_limit_date</th>\n",
       "      <th>price</th>\n",
       "      <th>freight_value</th>\n",
       "    </tr>\n",
       "  </thead>\n",
       "  <tbody>\n",
       "    <tr>\n",
       "      <th>0</th>\n",
       "      <td>00010242fe8c5a6d1ba2dd792cb16214</td>\n",
       "      <td>1</td>\n",
       "      <td>4244733e06e7ecb4970a6e2683c13e61</td>\n",
       "      <td>48436dade18ac8b2bce089ec2a041202</td>\n",
       "      <td>2017-09-19 09:45:35</td>\n",
       "      <td>58.90</td>\n",
       "      <td>13.29</td>\n",
       "    </tr>\n",
       "    <tr>\n",
       "      <th>1</th>\n",
       "      <td>00018f77f2f0320c557190d7a144bdd3</td>\n",
       "      <td>1</td>\n",
       "      <td>e5f2d52b802189ee658865ca93d83a8f</td>\n",
       "      <td>dd7ddc04e1b6c2c614352b383efe2d36</td>\n",
       "      <td>2017-05-03 11:05:13</td>\n",
       "      <td>239.90</td>\n",
       "      <td>19.93</td>\n",
       "    </tr>\n",
       "    <tr>\n",
       "      <th>2</th>\n",
       "      <td>000229ec398224ef6ca0657da4fc703e</td>\n",
       "      <td>1</td>\n",
       "      <td>c777355d18b72b67abbeef9df44fd0fd</td>\n",
       "      <td>5b51032eddd242adc84c38acab88f23d</td>\n",
       "      <td>2018-01-18 14:48:30</td>\n",
       "      <td>199.00</td>\n",
       "      <td>17.87</td>\n",
       "    </tr>\n",
       "    <tr>\n",
       "      <th>3</th>\n",
       "      <td>00024acbcdf0a6daa1e931b038114c75</td>\n",
       "      <td>1</td>\n",
       "      <td>7634da152a4610f1595efa32f14722fc</td>\n",
       "      <td>9d7a1d34a5052409006425275ba1c2b4</td>\n",
       "      <td>2018-08-15 10:10:18</td>\n",
       "      <td>12.99</td>\n",
       "      <td>12.79</td>\n",
       "    </tr>\n",
       "    <tr>\n",
       "      <th>4</th>\n",
       "      <td>00042b26cf59d7ce69dfabb4e55b4fd9</td>\n",
       "      <td>1</td>\n",
       "      <td>ac6c3623068f30de03045865e4e10089</td>\n",
       "      <td>df560393f3a51e74553ab94004ba5c87</td>\n",
       "      <td>2017-02-13 13:57:51</td>\n",
       "      <td>199.90</td>\n",
       "      <td>18.14</td>\n",
       "    </tr>\n",
       "  </tbody>\n",
       "</table>\n",
       "</div>"
      ],
      "text/plain": [
       "                           order_id  order_item_id  \\\n",
       "0  00010242fe8c5a6d1ba2dd792cb16214              1   \n",
       "1  00018f77f2f0320c557190d7a144bdd3              1   \n",
       "2  000229ec398224ef6ca0657da4fc703e              1   \n",
       "3  00024acbcdf0a6daa1e931b038114c75              1   \n",
       "4  00042b26cf59d7ce69dfabb4e55b4fd9              1   \n",
       "\n",
       "                         product_id                         seller_id  \\\n",
       "0  4244733e06e7ecb4970a6e2683c13e61  48436dade18ac8b2bce089ec2a041202   \n",
       "1  e5f2d52b802189ee658865ca93d83a8f  dd7ddc04e1b6c2c614352b383efe2d36   \n",
       "2  c777355d18b72b67abbeef9df44fd0fd  5b51032eddd242adc84c38acab88f23d   \n",
       "3  7634da152a4610f1595efa32f14722fc  9d7a1d34a5052409006425275ba1c2b4   \n",
       "4  ac6c3623068f30de03045865e4e10089  df560393f3a51e74553ab94004ba5c87   \n",
       "\n",
       "   shipping_limit_date   price  freight_value  \n",
       "0  2017-09-19 09:45:35   58.90          13.29  \n",
       "1  2017-05-03 11:05:13  239.90          19.93  \n",
       "2  2018-01-18 14:48:30  199.00          17.87  \n",
       "3  2018-08-15 10:10:18   12.99          12.79  \n",
       "4  2017-02-13 13:57:51  199.90          18.14  "
      ]
     },
     "execution_count": 75,
     "metadata": {},
     "output_type": "execute_result"
    }
   ],
   "source": [
    "order_items.head()"
   ]
  },
  {
   "cell_type": "code",
   "execution_count": 78,
   "id": "69ff197e",
   "metadata": {},
   "outputs": [
    {
     "name": "stdout",
     "output_type": "stream",
     "text": [
      "<class 'pandas.core.frame.DataFrame'>\n",
      "RangeIndex: 112650 entries, 0 to 112649\n",
      "Data columns (total 7 columns):\n",
      " #   Column               Non-Null Count   Dtype  \n",
      "---  ------               --------------   -----  \n",
      " 0   order_id             112650 non-null  object \n",
      " 1   order_item_id        112650 non-null  int64  \n",
      " 2   product_id           112650 non-null  object \n",
      " 3   seller_id            112650 non-null  object \n",
      " 4   shipping_limit_date  112650 non-null  object \n",
      " 5   price                112650 non-null  float64\n",
      " 6   freight_value        112650 non-null  float64\n",
      "dtypes: float64(2), int64(1), object(4)\n",
      "memory usage: 6.0+ MB\n"
     ]
    }
   ],
   "source": [
    "order_items.info()"
   ]
  },
  {
   "cell_type": "code",
   "execution_count": 76,
   "id": "d4267173",
   "metadata": {},
   "outputs": [
    {
     "data": {
      "text/plain": [
       "order_id               0\n",
       "order_item_id          0\n",
       "product_id             0\n",
       "seller_id              0\n",
       "shipping_limit_date    0\n",
       "price                  0\n",
       "freight_value          0\n",
       "dtype: int64"
      ]
     },
     "execution_count": 76,
     "metadata": {},
     "output_type": "execute_result"
    }
   ],
   "source": [
    "order_items.isna().sum()"
   ]
  },
  {
   "cell_type": "code",
   "execution_count": 80,
   "id": "13897ccb",
   "metadata": {},
   "outputs": [
    {
     "data": {
      "text/plain": [
       "98666"
      ]
     },
     "execution_count": 80,
     "metadata": {},
     "output_type": "execute_result"
    }
   ],
   "source": [
    "len(order_items['order_id'].unique())"
   ]
  },
  {
   "cell_type": "markdown",
   "id": "62920489",
   "metadata": {},
   "source": [
    "**Orders table has 99441 unique orders but order_items has 98666 orders, Why?**"
   ]
  },
  {
   "cell_type": "markdown",
   "id": "e11bb4ac",
   "metadata": {},
   "source": [
    "It shows one order has multiple items."
   ]
  },
  {
   "cell_type": "markdown",
   "id": "24af06c6",
   "metadata": {},
   "source": [
    "Each record shows order item which relate to previous order or new."
   ]
  },
  {
   "cell_type": "code",
   "execution_count": 92,
   "id": "abd06fd5",
   "metadata": {},
   "outputs": [
    {
     "data": {
      "text/html": [
       "<div>\n",
       "<style scoped>\n",
       "    .dataframe tbody tr th:only-of-type {\n",
       "        vertical-align: middle;\n",
       "    }\n",
       "\n",
       "    .dataframe tbody tr th {\n",
       "        vertical-align: top;\n",
       "    }\n",
       "\n",
       "    .dataframe thead th {\n",
       "        text-align: right;\n",
       "    }\n",
       "</style>\n",
       "<table border=\"1\" class=\"dataframe\">\n",
       "  <thead>\n",
       "    <tr style=\"text-align: right;\">\n",
       "      <th></th>\n",
       "      <th>order_item_id</th>\n",
       "      <th>items_count</th>\n",
       "      <th>'%' items_count</th>\n",
       "    </tr>\n",
       "  </thead>\n",
       "  <tbody>\n",
       "    <tr>\n",
       "      <th>0</th>\n",
       "      <td>1</td>\n",
       "      <td>98666</td>\n",
       "      <td>87.586329</td>\n",
       "    </tr>\n",
       "    <tr>\n",
       "      <th>1</th>\n",
       "      <td>2</td>\n",
       "      <td>9803</td>\n",
       "      <td>8.702175</td>\n",
       "    </tr>\n",
       "    <tr>\n",
       "      <th>2</th>\n",
       "      <td>3</td>\n",
       "      <td>2287</td>\n",
       "      <td>2.030182</td>\n",
       "    </tr>\n",
       "    <tr>\n",
       "      <th>3</th>\n",
       "      <td>4</td>\n",
       "      <td>965</td>\n",
       "      <td>0.856636</td>\n",
       "    </tr>\n",
       "    <tr>\n",
       "      <th>4</th>\n",
       "      <td>5</td>\n",
       "      <td>460</td>\n",
       "      <td>0.408344</td>\n",
       "    </tr>\n",
       "    <tr>\n",
       "      <th>5</th>\n",
       "      <td>6</td>\n",
       "      <td>256</td>\n",
       "      <td>0.227253</td>\n",
       "    </tr>\n",
       "    <tr>\n",
       "      <th>6</th>\n",
       "      <td>7</td>\n",
       "      <td>58</td>\n",
       "      <td>0.051487</td>\n",
       "    </tr>\n",
       "    <tr>\n",
       "      <th>7</th>\n",
       "      <td>8</td>\n",
       "      <td>36</td>\n",
       "      <td>0.031957</td>\n",
       "    </tr>\n",
       "    <tr>\n",
       "      <th>8</th>\n",
       "      <td>9</td>\n",
       "      <td>28</td>\n",
       "      <td>0.024856</td>\n",
       "    </tr>\n",
       "    <tr>\n",
       "      <th>9</th>\n",
       "      <td>10</td>\n",
       "      <td>25</td>\n",
       "      <td>0.022193</td>\n",
       "    </tr>\n",
       "    <tr>\n",
       "      <th>10</th>\n",
       "      <td>11</td>\n",
       "      <td>17</td>\n",
       "      <td>0.015091</td>\n",
       "    </tr>\n",
       "    <tr>\n",
       "      <th>11</th>\n",
       "      <td>12</td>\n",
       "      <td>13</td>\n",
       "      <td>0.011540</td>\n",
       "    </tr>\n",
       "    <tr>\n",
       "      <th>12</th>\n",
       "      <td>13</td>\n",
       "      <td>8</td>\n",
       "      <td>0.007102</td>\n",
       "    </tr>\n",
       "    <tr>\n",
       "      <th>13</th>\n",
       "      <td>14</td>\n",
       "      <td>7</td>\n",
       "      <td>0.006214</td>\n",
       "    </tr>\n",
       "    <tr>\n",
       "      <th>14</th>\n",
       "      <td>15</td>\n",
       "      <td>5</td>\n",
       "      <td>0.004439</td>\n",
       "    </tr>\n",
       "    <tr>\n",
       "      <th>15</th>\n",
       "      <td>16</td>\n",
       "      <td>3</td>\n",
       "      <td>0.002663</td>\n",
       "    </tr>\n",
       "    <tr>\n",
       "      <th>16</th>\n",
       "      <td>17</td>\n",
       "      <td>3</td>\n",
       "      <td>0.002663</td>\n",
       "    </tr>\n",
       "    <tr>\n",
       "      <th>17</th>\n",
       "      <td>18</td>\n",
       "      <td>3</td>\n",
       "      <td>0.002663</td>\n",
       "    </tr>\n",
       "    <tr>\n",
       "      <th>18</th>\n",
       "      <td>19</td>\n",
       "      <td>3</td>\n",
       "      <td>0.002663</td>\n",
       "    </tr>\n",
       "    <tr>\n",
       "      <th>19</th>\n",
       "      <td>20</td>\n",
       "      <td>3</td>\n",
       "      <td>0.002663</td>\n",
       "    </tr>\n",
       "    <tr>\n",
       "      <th>20</th>\n",
       "      <td>21</td>\n",
       "      <td>1</td>\n",
       "      <td>0.000888</td>\n",
       "    </tr>\n",
       "  </tbody>\n",
       "</table>\n",
       "</div>"
      ],
      "text/plain": [
       "    order_item_id  items_count  '%' items_count\n",
       "0               1        98666        87.586329\n",
       "1               2         9803         8.702175\n",
       "2               3         2287         2.030182\n",
       "3               4          965         0.856636\n",
       "4               5          460         0.408344\n",
       "5               6          256         0.227253\n",
       "6               7           58         0.051487\n",
       "7               8           36         0.031957\n",
       "8               9           28         0.024856\n",
       "9              10           25         0.022193\n",
       "10             11           17         0.015091\n",
       "11             12           13         0.011540\n",
       "12             13            8         0.007102\n",
       "13             14            7         0.006214\n",
       "14             15            5         0.004439\n",
       "15             16            3         0.002663\n",
       "16             17            3         0.002663\n",
       "17             18            3         0.002663\n",
       "18             19            3         0.002663\n",
       "19             20            3         0.002663\n",
       "20             21            1         0.000888"
      ]
     },
     "execution_count": 92,
     "metadata": {},
     "output_type": "execute_result"
    }
   ],
   "source": [
    "order_items_count = order_items.groupby(order_items.order_item_id).count()[\"order_id\"].reset_index().rename({\"order_id\":\"items_count\"}, axis=1)\n",
    "order_items_count[\"'%' items_count\"] = (order_items_count['items_count'] / len(order_items)) * 100\n",
    "order_items_count"
   ]
  },
  {
   "cell_type": "markdown",
   "id": "2ea4c6c0",
   "metadata": {},
   "source": [
    "product with ID 1 is highest selling, with 87% olist market cap."
   ]
  },
  {
   "cell_type": "code",
   "execution_count": 93,
   "id": "1ce69354",
   "metadata": {},
   "outputs": [
    {
     "data": {
      "text/plain": [
       "count    112650.000000\n",
       "mean        120.653739\n",
       "std         183.633928\n",
       "min           0.850000\n",
       "25%          39.900000\n",
       "50%          74.990000\n",
       "75%         134.900000\n",
       "max        6735.000000\n",
       "Name: price, dtype: float64"
      ]
     },
     "execution_count": 93,
     "metadata": {},
     "output_type": "execute_result"
    }
   ],
   "source": [
    "order_items['price'].describe()"
   ]
  },
  {
   "cell_type": "markdown",
   "id": "ca68505a",
   "metadata": {},
   "source": [
    "Max price of items is much higher then mean. Is 0.85 would be the price?"
   ]
  },
  {
   "cell_type": "code",
   "execution_count": 94,
   "id": "92d19e38",
   "metadata": {},
   "outputs": [
    {
     "data": {
      "text/plain": [
       "count    112650.000000\n",
       "mean         19.990320\n",
       "std          15.806405\n",
       "min           0.000000\n",
       "25%          13.080000\n",
       "50%          16.260000\n",
       "75%          21.150000\n",
       "max         409.680000\n",
       "Name: freight_value, dtype: float64"
      ]
     },
     "execution_count": 94,
     "metadata": {},
     "output_type": "execute_result"
    }
   ],
   "source": [
    "order_items['freight_value'].describe()"
   ]
  },
  {
   "cell_type": "code",
   "execution_count": 95,
   "id": "84c9a82d",
   "metadata": {},
   "outputs": [
    {
     "data": {
      "text/html": [
       "<div>\n",
       "<style scoped>\n",
       "    .dataframe tbody tr th:only-of-type {\n",
       "        vertical-align: middle;\n",
       "    }\n",
       "\n",
       "    .dataframe tbody tr th {\n",
       "        vertical-align: top;\n",
       "    }\n",
       "\n",
       "    .dataframe thead th {\n",
       "        text-align: right;\n",
       "    }\n",
       "</style>\n",
       "<table border=\"1\" class=\"dataframe\">\n",
       "  <thead>\n",
       "    <tr style=\"text-align: right;\">\n",
       "      <th></th>\n",
       "      <th>order_id</th>\n",
       "      <th>order_item_id</th>\n",
       "      <th>product_id</th>\n",
       "      <th>seller_id</th>\n",
       "      <th>shipping_limit_date</th>\n",
       "      <th>price</th>\n",
       "      <th>freight_value</th>\n",
       "    </tr>\n",
       "  </thead>\n",
       "  <tbody>\n",
       "    <tr>\n",
       "      <th>3556</th>\n",
       "      <td>0812eb902a67711a1cb742b3cdaa65ae</td>\n",
       "      <td>1</td>\n",
       "      <td>489ae2aa008f021502940f251d4cce7f</td>\n",
       "      <td>e3b4998c7a498169dc7bce44e6bb6277</td>\n",
       "      <td>2017-02-16 20:37:36</td>\n",
       "      <td>6735.0</td>\n",
       "      <td>194.31</td>\n",
       "    </tr>\n",
       "    <tr>\n",
       "      <th>107841</th>\n",
       "      <td>f5136e38d1a14a4dbd87dff67da82701</td>\n",
       "      <td>1</td>\n",
       "      <td>1bdf5e6731585cf01aa8169c7028d6ad</td>\n",
       "      <td>ee27a8f15b1dded4d213a468ba4eb391</td>\n",
       "      <td>2017-06-15 02:45:17</td>\n",
       "      <td>6499.0</td>\n",
       "      <td>227.66</td>\n",
       "    </tr>\n",
       "    <tr>\n",
       "      <th>112233</th>\n",
       "      <td>fefacc66af859508bf1a7934eab1e97f</td>\n",
       "      <td>1</td>\n",
       "      <td>69c590f7ffc7bf8db97190b6cb6ed62e</td>\n",
       "      <td>80ceebb4ee9b31afb6c6a916a574a1e2</td>\n",
       "      <td>2018-08-02 04:05:13</td>\n",
       "      <td>6729.0</td>\n",
       "      <td>193.21</td>\n",
       "    </tr>\n",
       "  </tbody>\n",
       "</table>\n",
       "</div>"
      ],
      "text/plain": [
       "                                order_id  order_item_id  \\\n",
       "3556    0812eb902a67711a1cb742b3cdaa65ae              1   \n",
       "107841  f5136e38d1a14a4dbd87dff67da82701              1   \n",
       "112233  fefacc66af859508bf1a7934eab1e97f              1   \n",
       "\n",
       "                              product_id                         seller_id  \\\n",
       "3556    489ae2aa008f021502940f251d4cce7f  e3b4998c7a498169dc7bce44e6bb6277   \n",
       "107841  1bdf5e6731585cf01aa8169c7028d6ad  ee27a8f15b1dded4d213a468ba4eb391   \n",
       "112233  69c590f7ffc7bf8db97190b6cb6ed62e  80ceebb4ee9b31afb6c6a916a574a1e2   \n",
       "\n",
       "        shipping_limit_date   price  freight_value  \n",
       "3556    2017-02-16 20:37:36  6735.0         194.31  \n",
       "107841  2017-06-15 02:45:17  6499.0         227.66  \n",
       "112233  2018-08-02 04:05:13  6729.0         193.21  "
      ]
     },
     "execution_count": 95,
     "metadata": {},
     "output_type": "execute_result"
    }
   ],
   "source": [
    "order_items[order_items['price'] > 6000]"
   ]
  },
  {
   "cell_type": "code",
   "execution_count": 108,
   "id": "5712f32b",
   "metadata": {},
   "outputs": [
    {
     "data": {
      "text/plain": [
       "count    112647.000000\n",
       "mean        120.479735\n",
       "std         180.513348\n",
       "min           0.850000\n",
       "25%          39.900000\n",
       "50%          74.990000\n",
       "75%         134.900000\n",
       "max        4799.000000\n",
       "Name: price, dtype: float64"
      ]
     },
     "execution_count": 108,
     "metadata": {},
     "output_type": "execute_result"
    }
   ],
   "source": [
    "order_items[order_items['price'] < 6000]['price'].describe()"
   ]
  },
  {
   "cell_type": "code",
   "execution_count": 107,
   "id": "d08f71a3",
   "metadata": {},
   "outputs": [
    {
     "data": {
      "text/html": [
       "<div>\n",
       "<style scoped>\n",
       "    .dataframe tbody tr th:only-of-type {\n",
       "        vertical-align: middle;\n",
       "    }\n",
       "\n",
       "    .dataframe tbody tr th {\n",
       "        vertical-align: top;\n",
       "    }\n",
       "\n",
       "    .dataframe thead th {\n",
       "        text-align: right;\n",
       "    }\n",
       "</style>\n",
       "<table border=\"1\" class=\"dataframe\">\n",
       "  <thead>\n",
       "    <tr style=\"text-align: right;\">\n",
       "      <th></th>\n",
       "      <th>order_id</th>\n",
       "      <th>order_item_id</th>\n",
       "      <th>product_id</th>\n",
       "      <th>seller_id</th>\n",
       "      <th>shipping_limit_date</th>\n",
       "      <th>price</th>\n",
       "      <th>freight_value</th>\n",
       "    </tr>\n",
       "  </thead>\n",
       "  <tbody>\n",
       "    <tr>\n",
       "      <th>73486</th>\n",
       "      <td>a77e1550db865202c56b19ddc6dc4d53</td>\n",
       "      <td>1</td>\n",
       "      <td>ec31d2a17b299511e7c8627be9337b9b</td>\n",
       "      <td>257e61d3251fb5efb9daadddbc2cf7ca</td>\n",
       "      <td>2018-04-25 06:55:13</td>\n",
       "      <td>979.0</td>\n",
       "      <td>409.68</td>\n",
       "    </tr>\n",
       "  </tbody>\n",
       "</table>\n",
       "</div>"
      ],
      "text/plain": [
       "                               order_id  order_item_id  \\\n",
       "73486  a77e1550db865202c56b19ddc6dc4d53              1   \n",
       "\n",
       "                             product_id                         seller_id  \\\n",
       "73486  ec31d2a17b299511e7c8627be9337b9b  257e61d3251fb5efb9daadddbc2cf7ca   \n",
       "\n",
       "       shipping_limit_date  price  freight_value  \n",
       "73486  2018-04-25 06:55:13  979.0         409.68  "
      ]
     },
     "execution_count": 107,
     "metadata": {},
     "output_type": "execute_result"
    }
   ],
   "source": [
    "order_items[order_items['freight_value'] > 400]"
   ]
  },
  {
   "cell_type": "code",
   "execution_count": 106,
   "id": "6de9605b",
   "metadata": {},
   "outputs": [
    {
     "data": {
      "text/plain": [
       "count    112649.000000\n",
       "mean         19.986861\n",
       "std          15.763774\n",
       "min           0.000000\n",
       "25%          13.080000\n",
       "50%          16.260000\n",
       "75%          21.150000\n",
       "max         375.280000\n",
       "Name: freight_value, dtype: float64"
      ]
     },
     "execution_count": 106,
     "metadata": {},
     "output_type": "execute_result"
    }
   ],
   "source": [
    "order_items[order_items['freight_value'] < 400]['freight_value'].describe()"
   ]
  },
  {
   "cell_type": "markdown",
   "id": "c5edf495",
   "metadata": {},
   "source": [
    "Seems like where the price is higher the freight value is also higher."
   ]
  },
  {
   "cell_type": "code",
   "execution_count": 99,
   "id": "5f64317b",
   "metadata": {},
   "outputs": [
    {
     "data": {
      "text/plain": [
       "<Axes: ylabel='price'>"
      ]
     },
     "execution_count": 99,
     "metadata": {},
     "output_type": "execute_result"
    },
    {
     "data": {
      "image/png": "[encoded data removed]",
      "text/plain": [
       "<Figure size 640x480 with 1 Axes>"
      ]
     },
     "metadata": {},
     "output_type": "display_data"
    }
   ],
   "source": [
    "sns.boxplot(order_items['price'])"
   ]
  },
  {
   "cell_type": "code",
   "execution_count": 100,
   "metadata": {},
   "outputs": [
    {
     "data": {
      "text/plain": [
       "<Axes: ylabel='freight_value'>"
      ]
     },
     "execution_count": 100,
     "metadata": {},
     "output_type": "execute_result"
    },
    {
     "data": {
      "image/png": "[encoded data removed]",
      "text/plain": [
       "<Figure size 640x480 with 1 Axes>"
      ]
     },
     "metadata": {},
     "output_type": "display_data"
    }
   ],
   "source": [
    "sns.boxplot(order_items['freight_value'])"
   ]
  },
  {
   "cell_type": "markdown",
   "id": "161751b8",
   "metadata": {},
   "source": [
    "**We have two extreme value products I don't know is they are products or just outliar. Also there is one extreame delivery value. Excluding these values doesn't effect mean a lot just minor change so I'll keep them in data.**"
   ]
  },
  {
   "cell_type": "code",
   "execution_count": 176,
   "id": "77c05595",
   "metadata": {},
   "outputs": [
    {
     "data": {
      "text/plain": [
       "3095"
      ]
     },
     "execution_count": 176,
     "metadata": {},
     "output_type": "execute_result"
    }
   ],
   "source": [
    "len(order_items['seller_id'].unique())"
   ]
  },
  {
   "cell_type": "markdown",
   "id": "15ea11a7",
   "metadata": {},
   "source": [
    "There are 3095 sellers who completed 98666 orders and sold 112650 products."
   ]
  },
  {
   "cell_type": "code",
   "execution_count": 177,
   "id": "a45f421b",
   "metadata": {},
   "outputs": [
    {
     "data": {
      "text/html": [
       "<div>\n",
       "<style scoped>\n",
       "    .dataframe tbody tr th:only-of-type {\n",
       "        vertical-align: middle;\n",
       "    }\n",
       "\n",
       "    .dataframe tbody tr th {\n",
       "        vertical-align: top;\n",
       "    }\n",
       "\n",
       "    .dataframe thead th {\n",
       "        text-align: right;\n",
       "    }\n",
       "</style>\n",
       "<table border=\"1\" class=\"dataframe\">\n",
       "  <thead>\n",
       "    <tr style=\"text-align: right;\">\n",
       "      <th></th>\n",
       "      <th>seller_id</th>\n",
       "      <th>Products Count</th>\n",
       "    </tr>\n",
       "  </thead>\n",
       "  <tbody>\n",
       "    <tr>\n",
       "      <th>0</th>\n",
       "      <td>6560211a19b47992c3666cc44a7e94c0</td>\n",
       "      <td>2033</td>\n",
       "    </tr>\n",
       "    <tr>\n",
       "      <th>1</th>\n",
       "      <td>4a3ca9315b744ce9f8e9374361493884</td>\n",
       "      <td>1987</td>\n",
       "    </tr>\n",
       "    <tr>\n",
       "      <th>2</th>\n",
       "      <td>1f50f920176fa81dab994f9023523100</td>\n",
       "      <td>1931</td>\n",
       "    </tr>\n",
       "    <tr>\n",
       "      <th>3</th>\n",
       "      <td>cc419e0650a3c5ba77189a1882b7556a</td>\n",
       "      <td>1775</td>\n",
       "    </tr>\n",
       "    <tr>\n",
       "      <th>4</th>\n",
       "      <td>da8622b14eb17ae2831f4ac5b9dab84a</td>\n",
       "      <td>1551</td>\n",
       "    </tr>\n",
       "    <tr>\n",
       "      <th>...</th>\n",
       "      <td>...</td>\n",
       "      <td>...</td>\n",
       "    </tr>\n",
       "    <tr>\n",
       "      <th>3090</th>\n",
       "      <td>cf281cf8b7affbdfe751b29cc85580e1</td>\n",
       "      <td>1</td>\n",
       "    </tr>\n",
       "    <tr>\n",
       "      <th>3091</th>\n",
       "      <td>d1e2fe627180431ffda076abb303c56f</td>\n",
       "      <td>1</td>\n",
       "    </tr>\n",
       "    <tr>\n",
       "      <th>3092</th>\n",
       "      <td>d1aa1ec0839dcab73a6161130eb1f94a</td>\n",
       "      <td>1</td>\n",
       "    </tr>\n",
       "    <tr>\n",
       "      <th>3093</th>\n",
       "      <td>d1a5cc844736958c11b8efab9a2b4c87</td>\n",
       "      <td>1</td>\n",
       "    </tr>\n",
       "    <tr>\n",
       "      <th>3094</th>\n",
       "      <td>d1a1b40ec554c593a1a99366746289dd</td>\n",
       "      <td>1</td>\n",
       "    </tr>\n",
       "  </tbody>\n",
       "</table>\n",
       "<p>3095 rows × 2 columns</p>\n",
       "</div>"
      ],
      "text/plain": [
       "                             seller_id  Products Count\n",
       "0     6560211a19b47992c3666cc44a7e94c0            2033\n",
       "1     4a3ca9315b744ce9f8e9374361493884            1987\n",
       "2     1f50f920176fa81dab994f9023523100            1931\n",
       "3     cc419e0650a3c5ba77189a1882b7556a            1775\n",
       "4     da8622b14eb17ae2831f4ac5b9dab84a            1551\n",
       "...                                ...             ...\n",
       "3090  cf281cf8b7affbdfe751b29cc85580e1               1\n",
       "3091  d1e2fe627180431ffda076abb303c56f               1\n",
       "3092  d1aa1ec0839dcab73a6161130eb1f94a               1\n",
       "3093  d1a5cc844736958c11b8efab9a2b4c87               1\n",
       "3094  d1a1b40ec554c593a1a99366746289dd               1\n",
       "\n",
       "[3095 rows x 2 columns]"
      ]
     },
     "execution_count": 177,
     "metadata": {},
     "output_type": "execute_result"
    }
   ],
   "source": [
    "order_items.groupby(order_items.seller_id).count()['order_id'].sort_values(ascending=False).reset_index().rename({\"order_id\":\"Products Count\"}, axis=1)"
   ]
  },
  {
   "cell_type": "markdown",
   "id": "ae7408e1",
   "metadata": {},
   "source": [
    "orders or products?"
   ]
  },
  {
   "cell_type": "code",
   "execution_count": 178,
   "id": "8a250e90",
   "metadata": {},
   "outputs": [
    {
     "data": {
      "text/html": [
       "<div>\n",
       "<style scoped>\n",
       "    .dataframe tbody tr th:only-of-type {\n",
       "        vertical-align: middle;\n",
       "    }\n",
       "\n",
       "    .dataframe tbody tr th {\n",
       "        vertical-align: top;\n",
       "    }\n",
       "\n",
       "    .dataframe thead th {\n",
       "        text-align: right;\n",
       "    }\n",
       "</style>\n",
       "<table border=\"1\" class=\"dataframe\">\n",
       "  <thead>\n",
       "    <tr style=\"text-align: right;\">\n",
       "      <th></th>\n",
       "      <th>seller_id</th>\n",
       "      <th>total_products_sold</th>\n",
       "      <th>order_item_id</th>\n",
       "      <th>Orders count</th>\n",
       "    </tr>\n",
       "  </thead>\n",
       "  <tbody>\n",
       "    <tr>\n",
       "      <th>0</th>\n",
       "      <td>6560211a19b47992c3666cc44a7e94c0</td>\n",
       "      <td>2033</td>\n",
       "      <td>1</td>\n",
       "      <td>1844</td>\n",
       "    </tr>\n",
       "    <tr>\n",
       "      <th>1</th>\n",
       "      <td>4a3ca9315b744ce9f8e9374361493884</td>\n",
       "      <td>1987</td>\n",
       "      <td>1</td>\n",
       "      <td>1760</td>\n",
       "    </tr>\n",
       "    <tr>\n",
       "      <th>2</th>\n",
       "      <td>1f50f920176fa81dab994f9023523100</td>\n",
       "      <td>1931</td>\n",
       "      <td>1</td>\n",
       "      <td>1389</td>\n",
       "    </tr>\n",
       "    <tr>\n",
       "      <th>3</th>\n",
       "      <td>cc419e0650a3c5ba77189a1882b7556a</td>\n",
       "      <td>1775</td>\n",
       "      <td>1</td>\n",
       "      <td>1703</td>\n",
       "    </tr>\n",
       "    <tr>\n",
       "      <th>4</th>\n",
       "      <td>da8622b14eb17ae2831f4ac5b9dab84a</td>\n",
       "      <td>1551</td>\n",
       "      <td>1</td>\n",
       "      <td>1298</td>\n",
       "    </tr>\n",
       "    <tr>\n",
       "      <th>5</th>\n",
       "      <td>955fee9216a65b617aa5c0531780ce60</td>\n",
       "      <td>1499</td>\n",
       "      <td>1</td>\n",
       "      <td>1281</td>\n",
       "    </tr>\n",
       "    <tr>\n",
       "      <th>6</th>\n",
       "      <td>1025f0e2d44d7041d6cf58b6550e0bfa</td>\n",
       "      <td>1428</td>\n",
       "      <td>1</td>\n",
       "      <td>903</td>\n",
       "    </tr>\n",
       "    <tr>\n",
       "      <th>7</th>\n",
       "      <td>7c67e1448b00f6e969d365cea6b010ab</td>\n",
       "      <td>1364</td>\n",
       "      <td>1</td>\n",
       "      <td>975</td>\n",
       "    </tr>\n",
       "    <tr>\n",
       "      <th>8</th>\n",
       "      <td>ea8482cd71df3c1969d7b9473ff13abc</td>\n",
       "      <td>1203</td>\n",
       "      <td>1</td>\n",
       "      <td>1136</td>\n",
       "    </tr>\n",
       "    <tr>\n",
       "      <th>9</th>\n",
       "      <td>7a67c85e85bb2ce8582c35f2203ad736</td>\n",
       "      <td>1171</td>\n",
       "      <td>1</td>\n",
       "      <td>1150</td>\n",
       "    </tr>\n",
       "  </tbody>\n",
       "</table>\n",
       "</div>"
      ],
      "text/plain": [
       "                          seller_id  total_products_sold  order_item_id  \\\n",
       "0  6560211a19b47992c3666cc44a7e94c0                 2033              1   \n",
       "1  4a3ca9315b744ce9f8e9374361493884                 1987              1   \n",
       "2  1f50f920176fa81dab994f9023523100                 1931              1   \n",
       "3  cc419e0650a3c5ba77189a1882b7556a                 1775              1   \n",
       "4  da8622b14eb17ae2831f4ac5b9dab84a                 1551              1   \n",
       "5  955fee9216a65b617aa5c0531780ce60                 1499              1   \n",
       "6  1025f0e2d44d7041d6cf58b6550e0bfa                 1428              1   \n",
       "7  7c67e1448b00f6e969d365cea6b010ab                 1364              1   \n",
       "8  ea8482cd71df3c1969d7b9473ff13abc                 1203              1   \n",
       "9  7a67c85e85bb2ce8582c35f2203ad736                 1171              1   \n",
       "\n",
       "   Orders count  \n",
       "0          1844  \n",
       "1          1760  \n",
       "2          1389  \n",
       "3          1703  \n",
       "4          1298  \n",
       "5          1281  \n",
       "6           903  \n",
       "7           975  \n",
       "8          1136  \n",
       "9          1150  "
      ]
     },
     "execution_count": 178,
     "metadata": {},
     "output_type": "execute_result"
    }
   ],
   "source": [
    "# Group by seller_id to find total products sold by each seller\n",
    "seller_product_counts = order_items.groupby('seller_id')['order_id'].count().reset_index()\n",
    "seller_product_counts = seller_product_counts.rename(columns={'order_id': 'total_products_sold'})\n",
    "seller_product_counts = seller_product_counts.sort_values('total_products_sold', ascending=False)\n",
    "\n",
    "# Find for each seller, which order_item_id was the highest selling\n",
    "seller_orderitem_counts = order_items.groupby(['seller_id', 'order_item_id']).size().reset_index(name='Orders count')\n",
    "idx = seller_orderitem_counts.groupby('seller_id')['Orders count'].idxmax()\n",
    "top_orderitem_per_seller = seller_orderitem_counts.loc[idx].reset_index(drop=True)\n",
    "\n",
    "# Display top sellers and their highest selling order_item_id\n",
    "top_sellers = seller_product_counts.head(10)\n",
    "top_sellers_with_top_item = top_sellers.merge(top_orderitem_per_seller, on='seller_id', how='left')\n",
    "\n",
    "top_sellers_with_top_item"
   ]
  },
  {
   "cell_type": "code",
   "execution_count": 179,
   "id": "5fd035a3",
   "metadata": {},
   "outputs": [
    {
     "data": {
      "text/html": [
       "<div>\n",
       "<style scoped>\n",
       "    .dataframe tbody tr th:only-of-type {\n",
       "        vertical-align: middle;\n",
       "    }\n",
       "\n",
       "    .dataframe tbody tr th {\n",
       "        vertical-align: top;\n",
       "    }\n",
       "\n",
       "    .dataframe thead th {\n",
       "        text-align: right;\n",
       "    }\n",
       "</style>\n",
       "<table border=\"1\" class=\"dataframe\">\n",
       "  <thead>\n",
       "    <tr style=\"text-align: right;\">\n",
       "      <th></th>\n",
       "      <th>seller_id</th>\n",
       "      <th>total_products_sold</th>\n",
       "      <th>order_item_id</th>\n",
       "      <th>Orders count</th>\n",
       "      <th>% total_products_sold</th>\n",
       "      <th>% Orders count</th>\n",
       "    </tr>\n",
       "  </thead>\n",
       "  <tbody>\n",
       "    <tr>\n",
       "      <th>0</th>\n",
       "      <td>6560211a19b47992c3666cc44a7e94c0</td>\n",
       "      <td>2033</td>\n",
       "      <td>1</td>\n",
       "      <td>1844</td>\n",
       "      <td>1.804705</td>\n",
       "      <td>13.721259</td>\n",
       "    </tr>\n",
       "    <tr>\n",
       "      <th>1</th>\n",
       "      <td>4a3ca9315b744ce9f8e9374361493884</td>\n",
       "      <td>1987</td>\n",
       "      <td>1</td>\n",
       "      <td>1760</td>\n",
       "      <td>1.763870</td>\n",
       "      <td>13.096213</td>\n",
       "    </tr>\n",
       "    <tr>\n",
       "      <th>2</th>\n",
       "      <td>1f50f920176fa81dab994f9023523100</td>\n",
       "      <td>1931</td>\n",
       "      <td>1</td>\n",
       "      <td>1389</td>\n",
       "      <td>1.714159</td>\n",
       "      <td>10.335590</td>\n",
       "    </tr>\n",
       "    <tr>\n",
       "      <th>3</th>\n",
       "      <td>cc419e0650a3c5ba77189a1882b7556a</td>\n",
       "      <td>1775</td>\n",
       "      <td>1</td>\n",
       "      <td>1703</td>\n",
       "      <td>1.575677</td>\n",
       "      <td>12.672074</td>\n",
       "    </tr>\n",
       "    <tr>\n",
       "      <th>4</th>\n",
       "      <td>da8622b14eb17ae2831f4ac5b9dab84a</td>\n",
       "      <td>1551</td>\n",
       "      <td>1</td>\n",
       "      <td>1298</td>\n",
       "      <td>1.376831</td>\n",
       "      <td>9.658457</td>\n",
       "    </tr>\n",
       "    <tr>\n",
       "      <th>5</th>\n",
       "      <td>955fee9216a65b617aa5c0531780ce60</td>\n",
       "      <td>1499</td>\n",
       "      <td>1</td>\n",
       "      <td>1281</td>\n",
       "      <td>1.330670</td>\n",
       "      <td>9.531959</td>\n",
       "    </tr>\n",
       "    <tr>\n",
       "      <th>6</th>\n",
       "      <td>1025f0e2d44d7041d6cf58b6550e0bfa</td>\n",
       "      <td>1428</td>\n",
       "      <td>1</td>\n",
       "      <td>903</td>\n",
       "      <td>1.267643</td>\n",
       "      <td>6.719250</td>\n",
       "    </tr>\n",
       "    <tr>\n",
       "      <th>7</th>\n",
       "      <td>7c67e1448b00f6e969d365cea6b010ab</td>\n",
       "      <td>1364</td>\n",
       "      <td>1</td>\n",
       "      <td>975</td>\n",
       "      <td>1.210830</td>\n",
       "      <td>7.255004</td>\n",
       "    </tr>\n",
       "    <tr>\n",
       "      <th>8</th>\n",
       "      <td>ea8482cd71df3c1969d7b9473ff13abc</td>\n",
       "      <td>1203</td>\n",
       "      <td>1</td>\n",
       "      <td>1136</td>\n",
       "      <td>1.067909</td>\n",
       "      <td>8.453010</td>\n",
       "    </tr>\n",
       "    <tr>\n",
       "      <th>9</th>\n",
       "      <td>7a67c85e85bb2ce8582c35f2203ad736</td>\n",
       "      <td>1171</td>\n",
       "      <td>1</td>\n",
       "      <td>1150</td>\n",
       "      <td>1.039503</td>\n",
       "      <td>8.557184</td>\n",
       "    </tr>\n",
       "  </tbody>\n",
       "</table>\n",
       "</div>"
      ],
      "text/plain": [
       "                          seller_id  total_products_sold  order_item_id  \\\n",
       "0  6560211a19b47992c3666cc44a7e94c0                 2033              1   \n",
       "1  4a3ca9315b744ce9f8e9374361493884                 1987              1   \n",
       "2  1f50f920176fa81dab994f9023523100                 1931              1   \n",
       "3  cc419e0650a3c5ba77189a1882b7556a                 1775              1   \n",
       "4  da8622b14eb17ae2831f4ac5b9dab84a                 1551              1   \n",
       "5  955fee9216a65b617aa5c0531780ce60                 1499              1   \n",
       "6  1025f0e2d44d7041d6cf58b6550e0bfa                 1428              1   \n",
       "7  7c67e1448b00f6e969d365cea6b010ab                 1364              1   \n",
       "8  ea8482cd71df3c1969d7b9473ff13abc                 1203              1   \n",
       "9  7a67c85e85bb2ce8582c35f2203ad736                 1171              1   \n",
       "\n",
       "   Orders count  % total_products_sold  % Orders count  \n",
       "0          1844               1.804705       13.721259  \n",
       "1          1760               1.763870       13.096213  \n",
       "2          1389               1.714159       10.335590  \n",
       "3          1703               1.575677       12.672074  \n",
       "4          1298               1.376831        9.658457  \n",
       "5          1281               1.330670        9.531959  \n",
       "6           903               1.267643        6.719250  \n",
       "7           975               1.210830        7.255004  \n",
       "8          1136               1.067909        8.453010  \n",
       "9          1150               1.039503        8.557184  "
      ]
     },
     "execution_count": 179,
     "metadata": {},
     "output_type": "execute_result"
    }
   ],
   "source": [
    "# Add percentage columns for total products sold and orders count\n",
    "total_products = seller_product_counts['total_products_sold'].sum()\n",
    "top_sellers_with_top_item['% total_products_sold'] = (top_sellers_with_top_item['total_products_sold'] / total_products) * 100\n",
    "\n",
    "total_orders = top_sellers_with_top_item['Orders count'].sum()\n",
    "top_sellers_with_top_item['% Orders count'] = (top_sellers_with_top_item['Orders count'] / total_orders) * 100\n",
    "\n",
    "top_sellers_with_top_item"
   ]
  },
  {
   "cell_type": "markdown",
   "id": "c287949a",
   "metadata": {},
   "source": [
    "\"6560211a19b47992c3666cc44a7e94c0\" is winner among all sellers, also around ~50% orders comes from first 4 seller who sold 6.7% products of all products."
   ]
  },
  {
   "cell_type": "code",
   "execution_count": 180,
   "id": "8dc62d0c",
   "metadata": {},
   "outputs": [
    {
     "data": {
      "text/html": [
       "<div>\n",
       "<style scoped>\n",
       "    .dataframe tbody tr th:only-of-type {\n",
       "        vertical-align: middle;\n",
       "    }\n",
       "\n",
       "    .dataframe tbody tr th {\n",
       "        vertical-align: top;\n",
       "    }\n",
       "\n",
       "    .dataframe thead th {\n",
       "        text-align: right;\n",
       "    }\n",
       "</style>\n",
       "<table border=\"1\" class=\"dataframe\">\n",
       "  <thead>\n",
       "    <tr style=\"text-align: right;\">\n",
       "      <th></th>\n",
       "      <th>seller_id</th>\n",
       "      <th>seller_zip_code_prefix</th>\n",
       "      <th>seller_city</th>\n",
       "      <th>seller_state</th>\n",
       "    </tr>\n",
       "  </thead>\n",
       "  <tbody>\n",
       "    <tr>\n",
       "      <th>0</th>\n",
       "      <td>3442f8959a84dea7ee197c632cb2df15</td>\n",
       "      <td>13023</td>\n",
       "      <td>campinas</td>\n",
       "      <td>SP</td>\n",
       "    </tr>\n",
       "    <tr>\n",
       "      <th>1</th>\n",
       "      <td>d1b65fc7debc3361ea86b5f14c68d2e2</td>\n",
       "      <td>13844</td>\n",
       "      <td>mogi guacu</td>\n",
       "      <td>SP</td>\n",
       "    </tr>\n",
       "    <tr>\n",
       "      <th>2</th>\n",
       "      <td>ce3ad9de960102d0677a81f5d0bb7b2d</td>\n",
       "      <td>20031</td>\n",
       "      <td>rio de janeiro</td>\n",
       "      <td>RJ</td>\n",
       "    </tr>\n",
       "    <tr>\n",
       "      <th>3</th>\n",
       "      <td>c0f3eea2e14555b6faeea3dd58c1b1c3</td>\n",
       "      <td>4195</td>\n",
       "      <td>sao paulo</td>\n",
       "      <td>SP</td>\n",
       "    </tr>\n",
       "    <tr>\n",
       "      <th>4</th>\n",
       "      <td>51a04a8a6bdcb23deccc82b0b80742cf</td>\n",
       "      <td>12914</td>\n",
       "      <td>braganca paulista</td>\n",
       "      <td>SP</td>\n",
       "    </tr>\n",
       "  </tbody>\n",
       "</table>\n",
       "</div>"
      ],
      "text/plain": [
       "                          seller_id  seller_zip_code_prefix  \\\n",
       "0  3442f8959a84dea7ee197c632cb2df15                   13023   \n",
       "1  d1b65fc7debc3361ea86b5f14c68d2e2                   13844   \n",
       "2  ce3ad9de960102d0677a81f5d0bb7b2d                   20031   \n",
       "3  c0f3eea2e14555b6faeea3dd58c1b1c3                    4195   \n",
       "4  51a04a8a6bdcb23deccc82b0b80742cf                   12914   \n",
       "\n",
       "         seller_city seller_state  \n",
       "0           campinas           SP  \n",
       "1         mogi guacu           SP  \n",
       "2     rio de janeiro           RJ  \n",
       "3          sao paulo           SP  \n",
       "4  braganca paulista           SP  "
      ]
     },
     "execution_count": 180,
     "metadata": {},
     "output_type": "execute_result"
    }
   ],
   "source": [
    "sellers.head()"
   ]
  },
  {
   "cell_type": "code",
   "execution_count": 181,
   "id": "d82f5da0",
   "metadata": {},
   "outputs": [
    {
     "data": {
      "text/html": [
       "<div>\n",
       "<style scoped>\n",
       "    .dataframe tbody tr th:only-of-type {\n",
       "        vertical-align: middle;\n",
       "    }\n",
       "\n",
       "    .dataframe tbody tr th {\n",
       "        vertical-align: top;\n",
       "    }\n",
       "\n",
       "    .dataframe thead th {\n",
       "        text-align: right;\n",
       "    }\n",
       "</style>\n",
       "<table border=\"1\" class=\"dataframe\">\n",
       "  <thead>\n",
       "    <tr style=\"text-align: right;\">\n",
       "      <th></th>\n",
       "      <th>seller_id</th>\n",
       "      <th>total_products_sold</th>\n",
       "      <th>order_item_id</th>\n",
       "      <th>Orders count</th>\n",
       "      <th>% total_products_sold</th>\n",
       "      <th>% Orders count</th>\n",
       "      <th>seller_city</th>\n",
       "      <th>seller_state</th>\n",
       "    </tr>\n",
       "  </thead>\n",
       "  <tbody>\n",
       "    <tr>\n",
       "      <th>0</th>\n",
       "      <td>6560211a19b47992c3666cc44a7e94c0</td>\n",
       "      <td>2033</td>\n",
       "      <td>1</td>\n",
       "      <td>1844</td>\n",
       "      <td>1.804705</td>\n",
       "      <td>13.721259</td>\n",
       "      <td>sao paulo</td>\n",
       "      <td>SP</td>\n",
       "    </tr>\n",
       "    <tr>\n",
       "      <th>1</th>\n",
       "      <td>4a3ca9315b744ce9f8e9374361493884</td>\n",
       "      <td>1987</td>\n",
       "      <td>1</td>\n",
       "      <td>1760</td>\n",
       "      <td>1.763870</td>\n",
       "      <td>13.096213</td>\n",
       "      <td>ibitinga</td>\n",
       "      <td>SP</td>\n",
       "    </tr>\n",
       "    <tr>\n",
       "      <th>2</th>\n",
       "      <td>1f50f920176fa81dab994f9023523100</td>\n",
       "      <td>1931</td>\n",
       "      <td>1</td>\n",
       "      <td>1389</td>\n",
       "      <td>1.714159</td>\n",
       "      <td>10.335590</td>\n",
       "      <td>sao jose do rio preto</td>\n",
       "      <td>SP</td>\n",
       "    </tr>\n",
       "    <tr>\n",
       "      <th>3</th>\n",
       "      <td>cc419e0650a3c5ba77189a1882b7556a</td>\n",
       "      <td>1775</td>\n",
       "      <td>1</td>\n",
       "      <td>1703</td>\n",
       "      <td>1.575677</td>\n",
       "      <td>12.672074</td>\n",
       "      <td>santo andre</td>\n",
       "      <td>SP</td>\n",
       "    </tr>\n",
       "    <tr>\n",
       "      <th>4</th>\n",
       "      <td>da8622b14eb17ae2831f4ac5b9dab84a</td>\n",
       "      <td>1551</td>\n",
       "      <td>1</td>\n",
       "      <td>1298</td>\n",
       "      <td>1.376831</td>\n",
       "      <td>9.658457</td>\n",
       "      <td>piracicaba</td>\n",
       "      <td>SP</td>\n",
       "    </tr>\n",
       "    <tr>\n",
       "      <th>5</th>\n",
       "      <td>955fee9216a65b617aa5c0531780ce60</td>\n",
       "      <td>1499</td>\n",
       "      <td>1</td>\n",
       "      <td>1281</td>\n",
       "      <td>1.330670</td>\n",
       "      <td>9.531959</td>\n",
       "      <td>sao paulo</td>\n",
       "      <td>SP</td>\n",
       "    </tr>\n",
       "    <tr>\n",
       "      <th>6</th>\n",
       "      <td>1025f0e2d44d7041d6cf58b6550e0bfa</td>\n",
       "      <td>1428</td>\n",
       "      <td>1</td>\n",
       "      <td>903</td>\n",
       "      <td>1.267643</td>\n",
       "      <td>6.719250</td>\n",
       "      <td>sao paulo</td>\n",
       "      <td>SP</td>\n",
       "    </tr>\n",
       "    <tr>\n",
       "      <th>7</th>\n",
       "      <td>7c67e1448b00f6e969d365cea6b010ab</td>\n",
       "      <td>1364</td>\n",
       "      <td>1</td>\n",
       "      <td>975</td>\n",
       "      <td>1.210830</td>\n",
       "      <td>7.255004</td>\n",
       "      <td>itaquaquecetuba</td>\n",
       "      <td>SP</td>\n",
       "    </tr>\n",
       "    <tr>\n",
       "      <th>8</th>\n",
       "      <td>ea8482cd71df3c1969d7b9473ff13abc</td>\n",
       "      <td>1203</td>\n",
       "      <td>1</td>\n",
       "      <td>1136</td>\n",
       "      <td>1.067909</td>\n",
       "      <td>8.453010</td>\n",
       "      <td>sao paulo</td>\n",
       "      <td>SP</td>\n",
       "    </tr>\n",
       "    <tr>\n",
       "      <th>9</th>\n",
       "      <td>7a67c85e85bb2ce8582c35f2203ad736</td>\n",
       "      <td>1171</td>\n",
       "      <td>1</td>\n",
       "      <td>1150</td>\n",
       "      <td>1.039503</td>\n",
       "      <td>8.557184</td>\n",
       "      <td>sao paulo</td>\n",
       "      <td>SP</td>\n",
       "    </tr>\n",
       "  </tbody>\n",
       "</table>\n",
       "</div>"
      ],
      "text/plain": [
       "                          seller_id  total_products_sold  order_item_id  \\\n",
       "0  6560211a19b47992c3666cc44a7e94c0                 2033              1   \n",
       "1  4a3ca9315b744ce9f8e9374361493884                 1987              1   \n",
       "2  1f50f920176fa81dab994f9023523100                 1931              1   \n",
       "3  cc419e0650a3c5ba77189a1882b7556a                 1775              1   \n",
       "4  da8622b14eb17ae2831f4ac5b9dab84a                 1551              1   \n",
       "5  955fee9216a65b617aa5c0531780ce60                 1499              1   \n",
       "6  1025f0e2d44d7041d6cf58b6550e0bfa                 1428              1   \n",
       "7  7c67e1448b00f6e969d365cea6b010ab                 1364              1   \n",
       "8  ea8482cd71df3c1969d7b9473ff13abc                 1203              1   \n",
       "9  7a67c85e85bb2ce8582c35f2203ad736                 1171              1   \n",
       "\n",
       "   Orders count  % total_products_sold  % Orders count            seller_city  \\\n",
       "0          1844               1.804705       13.721259              sao paulo   \n",
       "1          1760               1.763870       13.096213               ibitinga   \n",
       "2          1389               1.714159       10.335590  sao jose do rio preto   \n",
       "3          1703               1.575677       12.672074            santo andre   \n",
       "4          1298               1.376831        9.658457             piracicaba   \n",
       "5          1281               1.330670        9.531959              sao paulo   \n",
       "6           903               1.267643        6.719250              sao paulo   \n",
       "7           975               1.210830        7.255004        itaquaquecetuba   \n",
       "8          1136               1.067909        8.453010              sao paulo   \n",
       "9          1150               1.039503        8.557184              sao paulo   \n",
       "\n",
       "  seller_state  \n",
       "0           SP  \n",
       "1           SP  \n",
       "2           SP  \n",
       "3           SP  \n",
       "4           SP  \n",
       "5           SP  \n",
       "6           SP  \n",
       "7           SP  \n",
       "8           SP  \n",
       "9           SP  "
      ]
     },
     "execution_count": 181,
     "metadata": {},
     "output_type": "execute_result"
    }
   ],
   "source": [
    "# Merge seller city and state into top_sellers_with_top_item\n",
    "top_sellers_with_top_item = top_sellers_with_top_item.merge(\n",
    "    sellers[['seller_id', 'seller_city', 'seller_state']],\n",
    "    on='seller_id',\n",
    "    how='left'\n",
    ")\n",
    "\n",
    "top_sellers_with_top_item"
   ]
  },
  {
   "cell_type": "code",
   "execution_count": 182,
   "id": "ff6eb729",
   "metadata": {},
   "outputs": [
    {
     "data": {
      "text/html": [
       "<div>\n",
       "<style scoped>\n",
       "    .dataframe tbody tr th:only-of-type {\n",
       "        vertical-align: middle;\n",
       "    }\n",
       "\n",
       "    .dataframe tbody tr th {\n",
       "        vertical-align: top;\n",
       "    }\n",
       "\n",
       "    .dataframe thead th {\n",
       "        text-align: right;\n",
       "    }\n",
       "</style>\n",
       "<table border=\"1\" class=\"dataframe\">\n",
       "  <thead>\n",
       "    <tr style=\"text-align: right;\">\n",
       "      <th></th>\n",
       "      <th>seller_id</th>\n",
       "      <th>total_reviews</th>\n",
       "      <th>avg_review_score</th>\n",
       "      <th>median_review_score</th>\n",
       "      <th>std_review_score</th>\n",
       "    </tr>\n",
       "  </thead>\n",
       "  <tbody>\n",
       "    <tr>\n",
       "      <th>0</th>\n",
       "      <td>0015a82c2db000af6aaaf3ae2ecb0532</td>\n",
       "      <td>3</td>\n",
       "      <td>3.666667</td>\n",
       "      <td>5.0</td>\n",
       "      <td>2.309401</td>\n",
       "    </tr>\n",
       "    <tr>\n",
       "      <th>1</th>\n",
       "      <td>001cca7ae9ae17fb1caed9dfb1094831</td>\n",
       "      <td>236</td>\n",
       "      <td>3.902542</td>\n",
       "      <td>5.0</td>\n",
       "      <td>1.442159</td>\n",
       "    </tr>\n",
       "    <tr>\n",
       "      <th>2</th>\n",
       "      <td>001e6ad469a905060d959994f1b41e4f</td>\n",
       "      <td>1</td>\n",
       "      <td>1.000000</td>\n",
       "      <td>1.0</td>\n",
       "      <td>NaN</td>\n",
       "    </tr>\n",
       "    <tr>\n",
       "      <th>3</th>\n",
       "      <td>002100f778ceb8431b7a1020ff7ab48f</td>\n",
       "      <td>56</td>\n",
       "      <td>3.982143</td>\n",
       "      <td>5.0</td>\n",
       "      <td>1.394679</td>\n",
       "    </tr>\n",
       "    <tr>\n",
       "      <th>4</th>\n",
       "      <td>003554e2dce176b5555353e4f3555ac8</td>\n",
       "      <td>1</td>\n",
       "      <td>5.000000</td>\n",
       "      <td>5.0</td>\n",
       "      <td>NaN</td>\n",
       "    </tr>\n",
       "  </tbody>\n",
       "</table>\n",
       "</div>"
      ],
      "text/plain": [
       "                          seller_id  total_reviews  avg_review_score  \\\n",
       "0  0015a82c2db000af6aaaf3ae2ecb0532              3          3.666667   \n",
       "1  001cca7ae9ae17fb1caed9dfb1094831            236          3.902542   \n",
       "2  001e6ad469a905060d959994f1b41e4f              1          1.000000   \n",
       "3  002100f778ceb8431b7a1020ff7ab48f             56          3.982143   \n",
       "4  003554e2dce176b5555353e4f3555ac8              1          5.000000   \n",
       "\n",
       "   median_review_score  std_review_score  \n",
       "0                  5.0          2.309401  \n",
       "1                  5.0          1.442159  \n",
       "2                  1.0               NaN  \n",
       "3                  5.0          1.394679  \n",
       "4                  5.0               NaN  "
      ]
     },
     "execution_count": 182,
     "metadata": {},
     "output_type": "execute_result"
    }
   ],
   "source": [
    "# Merge order_items with reviews on 'order_id' to associate each review with its seller\n",
    "order_reviews = order_items[['order_id', 'seller_id']].merge(\n",
    "    reviews[['order_id', 'review_score']],\n",
    "    on='order_id',\n",
    "    how='left'\n",
    ")\n",
    "\n",
    "# Group by seller_id to aggregate review statistics\n",
    "sellers_reviews = order_reviews.groupby('seller_id').agg(\n",
    "    total_reviews=('review_score', 'count'),\n",
    "    avg_review_score=('review_score', 'mean'),\n",
    "    median_review_score=('review_score', 'median'),\n",
    "    std_review_score=('review_score', 'std')\n",
    ").reset_index()\n",
    "\n",
    "sellers_reviews.head()"
   ]
  },
  {
   "cell_type": "code",
   "execution_count": 183,
   "id": "5f500c92",
   "metadata": {},
   "outputs": [
    {
     "data": {
      "text/html": [
       "<div>\n",
       "<style scoped>\n",
       "    .dataframe tbody tr th:only-of-type {\n",
       "        vertical-align: middle;\n",
       "    }\n",
       "\n",
       "    .dataframe tbody tr th {\n",
       "        vertical-align: top;\n",
       "    }\n",
       "\n",
       "    .dataframe thead th {\n",
       "        text-align: right;\n",
       "    }\n",
       "</style>\n",
       "<table border=\"1\" class=\"dataframe\">\n",
       "  <thead>\n",
       "    <tr style=\"text-align: right;\">\n",
       "      <th></th>\n",
       "      <th>seller_id</th>\n",
       "      <th>total_products_sold</th>\n",
       "      <th>order_item_id</th>\n",
       "      <th>Orders count</th>\n",
       "      <th>% total_products_sold</th>\n",
       "      <th>% Orders count</th>\n",
       "      <th>seller_city</th>\n",
       "      <th>seller_state</th>\n",
       "      <th>avg_review_score</th>\n",
       "    </tr>\n",
       "  </thead>\n",
       "  <tbody>\n",
       "    <tr>\n",
       "      <th>0</th>\n",
       "      <td>6560211a19b47992c3666cc44a7e94c0</td>\n",
       "      <td>2033</td>\n",
       "      <td>1</td>\n",
       "      <td>1844</td>\n",
       "      <td>1.804705</td>\n",
       "      <td>13.721259</td>\n",
       "      <td>sao paulo</td>\n",
       "      <td>SP</td>\n",
       "      <td>3.909406</td>\n",
       "    </tr>\n",
       "    <tr>\n",
       "      <th>1</th>\n",
       "      <td>4a3ca9315b744ce9f8e9374361493884</td>\n",
       "      <td>1987</td>\n",
       "      <td>1</td>\n",
       "      <td>1760</td>\n",
       "      <td>1.763870</td>\n",
       "      <td>13.096213</td>\n",
       "      <td>ibitinga</td>\n",
       "      <td>SP</td>\n",
       "      <td>3.803931</td>\n",
       "    </tr>\n",
       "    <tr>\n",
       "      <th>2</th>\n",
       "      <td>1f50f920176fa81dab994f9023523100</td>\n",
       "      <td>1931</td>\n",
       "      <td>1</td>\n",
       "      <td>1389</td>\n",
       "      <td>1.714159</td>\n",
       "      <td>10.335590</td>\n",
       "      <td>sao jose do rio preto</td>\n",
       "      <td>SP</td>\n",
       "      <td>3.982402</td>\n",
       "    </tr>\n",
       "    <tr>\n",
       "      <th>3</th>\n",
       "      <td>cc419e0650a3c5ba77189a1882b7556a</td>\n",
       "      <td>1775</td>\n",
       "      <td>1</td>\n",
       "      <td>1703</td>\n",
       "      <td>1.575677</td>\n",
       "      <td>12.672074</td>\n",
       "      <td>santo andre</td>\n",
       "      <td>SP</td>\n",
       "      <td>4.069575</td>\n",
       "    </tr>\n",
       "    <tr>\n",
       "      <th>4</th>\n",
       "      <td>da8622b14eb17ae2831f4ac5b9dab84a</td>\n",
       "      <td>1551</td>\n",
       "      <td>1</td>\n",
       "      <td>1298</td>\n",
       "      <td>1.376831</td>\n",
       "      <td>9.658457</td>\n",
       "      <td>piracicaba</td>\n",
       "      <td>SP</td>\n",
       "      <td>4.071429</td>\n",
       "    </tr>\n",
       "    <tr>\n",
       "      <th>5</th>\n",
       "      <td>955fee9216a65b617aa5c0531780ce60</td>\n",
       "      <td>1499</td>\n",
       "      <td>1</td>\n",
       "      <td>1281</td>\n",
       "      <td>1.330670</td>\n",
       "      <td>9.531959</td>\n",
       "      <td>sao paulo</td>\n",
       "      <td>SP</td>\n",
       "      <td>4.051713</td>\n",
       "    </tr>\n",
       "    <tr>\n",
       "      <th>6</th>\n",
       "      <td>1025f0e2d44d7041d6cf58b6550e0bfa</td>\n",
       "      <td>1428</td>\n",
       "      <td>1</td>\n",
       "      <td>903</td>\n",
       "      <td>1.267643</td>\n",
       "      <td>6.719250</td>\n",
       "      <td>sao paulo</td>\n",
       "      <td>SP</td>\n",
       "      <td>3.849755</td>\n",
       "    </tr>\n",
       "    <tr>\n",
       "      <th>7</th>\n",
       "      <td>7c67e1448b00f6e969d365cea6b010ab</td>\n",
       "      <td>1364</td>\n",
       "      <td>1</td>\n",
       "      <td>975</td>\n",
       "      <td>1.210830</td>\n",
       "      <td>7.255004</td>\n",
       "      <td>itaquaquecetuba</td>\n",
       "      <td>SP</td>\n",
       "      <td>3.348208</td>\n",
       "    </tr>\n",
       "    <tr>\n",
       "      <th>8</th>\n",
       "      <td>ea8482cd71df3c1969d7b9473ff13abc</td>\n",
       "      <td>1203</td>\n",
       "      <td>1</td>\n",
       "      <td>1136</td>\n",
       "      <td>1.067909</td>\n",
       "      <td>8.453010</td>\n",
       "      <td>sao paulo</td>\n",
       "      <td>SP</td>\n",
       "      <td>3.953216</td>\n",
       "    </tr>\n",
       "    <tr>\n",
       "      <th>9</th>\n",
       "      <td>7a67c85e85bb2ce8582c35f2203ad736</td>\n",
       "      <td>1171</td>\n",
       "      <td>1</td>\n",
       "      <td>1150</td>\n",
       "      <td>1.039503</td>\n",
       "      <td>8.557184</td>\n",
       "      <td>sao paulo</td>\n",
       "      <td>SP</td>\n",
       "      <td>4.234991</td>\n",
       "    </tr>\n",
       "  </tbody>\n",
       "</table>\n",
       "</div>"
      ],
      "text/plain": [
       "                          seller_id  total_products_sold  order_item_id  \\\n",
       "0  6560211a19b47992c3666cc44a7e94c0                 2033              1   \n",
       "1  4a3ca9315b744ce9f8e9374361493884                 1987              1   \n",
       "2  1f50f920176fa81dab994f9023523100                 1931              1   \n",
       "3  cc419e0650a3c5ba77189a1882b7556a                 1775              1   \n",
       "4  da8622b14eb17ae2831f4ac5b9dab84a                 1551              1   \n",
       "5  955fee9216a65b617aa5c0531780ce60                 1499              1   \n",
       "6  1025f0e2d44d7041d6cf58b6550e0bfa                 1428              1   \n",
       "7  7c67e1448b00f6e969d365cea6b010ab                 1364              1   \n",
       "8  ea8482cd71df3c1969d7b9473ff13abc                 1203              1   \n",
       "9  7a67c85e85bb2ce8582c35f2203ad736                 1171              1   \n",
       "\n",
       "   Orders count  % total_products_sold  % Orders count            seller_city  \\\n",
       "0          1844               1.804705       13.721259              sao paulo   \n",
       "1          1760               1.763870       13.096213               ibitinga   \n",
       "2          1389               1.714159       10.335590  sao jose do rio preto   \n",
       "3          1703               1.575677       12.672074            santo andre   \n",
       "4          1298               1.376831        9.658457             piracicaba   \n",
       "5          1281               1.330670        9.531959              sao paulo   \n",
       "6           903               1.267643        6.719250              sao paulo   \n",
       "7           975               1.210830        7.255004        itaquaquecetuba   \n",
       "8          1136               1.067909        8.453010              sao paulo   \n",
       "9          1150               1.039503        8.557184              sao paulo   \n",
       "\n",
       "  seller_state  avg_review_score  \n",
       "0           SP          3.909406  \n",
       "1           SP          3.803931  \n",
       "2           SP          3.982402  \n",
       "3           SP          4.069575  \n",
       "4           SP          4.071429  \n",
       "5           SP          4.051713  \n",
       "6           SP          3.849755  \n",
       "7           SP          3.348208  \n",
       "8           SP          3.953216  \n",
       "9           SP          4.234991  "
      ]
     },
     "execution_count": 183,
     "metadata": {},
     "output_type": "execute_result"
    }
   ],
   "source": [
    "# Merge avg_review_score from sellers_reviews into top_sellers_with_top_item\n",
    "top_sellers_with_top_item = top_sellers_with_top_item.merge(\n",
    "    sellers_reviews[['seller_id', 'avg_review_score']],\n",
    "    on='seller_id',\n",
    "    how='left'\n",
    ")\n",
    "\n",
    "top_sellers_with_top_item"
   ]
  },
  {
   "cell_type": "code",
   "execution_count": 184,
   "id": "551e9464",
   "metadata": {},
   "outputs": [
    {
     "data": {
      "text/html": [
       "<div>\n",
       "<style scoped>\n",
       "    .dataframe tbody tr th:only-of-type {\n",
       "        vertical-align: middle;\n",
       "    }\n",
       "\n",
       "    .dataframe tbody tr th {\n",
       "        vertical-align: top;\n",
       "    }\n",
       "\n",
       "    .dataframe thead th {\n",
       "        text-align: right;\n",
       "    }\n",
       "</style>\n",
       "<table border=\"1\" class=\"dataframe\">\n",
       "  <thead>\n",
       "    <tr style=\"text-align: right;\">\n",
       "      <th></th>\n",
       "      <th>seller_id</th>\n",
       "      <th>total_products_sold</th>\n",
       "      <th>order_item_id</th>\n",
       "      <th>Orders count</th>\n",
       "      <th>% total_products_sold</th>\n",
       "      <th>% Orders count</th>\n",
       "      <th>seller_city</th>\n",
       "      <th>seller_state</th>\n",
       "      <th>avg_review_score</th>\n",
       "    </tr>\n",
       "  </thead>\n",
       "  <tbody>\n",
       "    <tr>\n",
       "      <th>9</th>\n",
       "      <td>7a67c85e85bb2ce8582c35f2203ad736</td>\n",
       "      <td>1171</td>\n",
       "      <td>1</td>\n",
       "      <td>1150</td>\n",
       "      <td>1.039503</td>\n",
       "      <td>8.557184</td>\n",
       "      <td>sao paulo</td>\n",
       "      <td>SP</td>\n",
       "      <td>4.234991</td>\n",
       "    </tr>\n",
       "  </tbody>\n",
       "</table>\n",
       "</div>"
      ],
      "text/plain": [
       "                          seller_id  total_products_sold  order_item_id  \\\n",
       "9  7a67c85e85bb2ce8582c35f2203ad736                 1171              1   \n",
       "\n",
       "   Orders count  % total_products_sold  % Orders count seller_city  \\\n",
       "9          1150               1.039503        8.557184   sao paulo   \n",
       "\n",
       "  seller_state  avg_review_score  \n",
       "9           SP          4.234991  "
      ]
     },
     "execution_count": 184,
     "metadata": {},
     "output_type": "execute_result"
    }
   ],
   "source": [
    "# Find the seller(s) with the highest average review score among top_sellers_with_top_item\n",
    "max_avg_review = top_sellers_with_top_item['avg_review_score'].max()\n",
    "highest_rated_sellers = top_sellers_with_top_item[top_sellers_with_top_item['avg_review_score'] == max_avg_review]\n",
    "\n",
    "highest_rated_sellers"
   ]
  },
  {
   "cell_type": "markdown",
   "id": "4a415d0e",
   "metadata": {},
   "source": [
    "7a67c85e85bb2ce8582c35f2203ad736 Seller keeps highest trrating and place between top 10 sellers, we should promot such huble sellers."
   ]
  },
  {
   "cell_type": "markdown",
   "id": "c8c891cf",
   "metadata": {},
   "source": [
    "# Analyse Products"
   ]
  },
  {
   "cell_type": "code",
   "execution_count": 29,
   "id": "54872cdd",
   "metadata": {},
   "outputs": [
    {
     "data": {
      "text/html": [
       "<div>\n",
       "<style scoped>\n",
       "    .dataframe tbody tr th:only-of-type {\n",
       "        vertical-align: middle;\n",
       "    }\n",
       "\n",
       "    .dataframe tbody tr th {\n",
       "        vertical-align: top;\n",
       "    }\n",
       "\n",
       "    .dataframe thead th {\n",
       "        text-align: right;\n",
       "    }\n",
       "</style>\n",
       "<table border=\"1\" class=\"dataframe\">\n",
       "  <thead>\n",
       "    <tr style=\"text-align: right;\">\n",
       "      <th></th>\n",
       "      <th>product_id</th>\n",
       "      <th>product_category_name</th>\n",
       "      <th>product_name_lenght</th>\n",
       "      <th>product_description_lenght</th>\n",
       "      <th>product_photos_qty</th>\n",
       "      <th>product_weight_g</th>\n",
       "      <th>product_length_cm</th>\n",
       "      <th>product_height_cm</th>\n",
       "      <th>product_width_cm</th>\n",
       "    </tr>\n",
       "  </thead>\n",
       "  <tbody>\n",
       "    <tr>\n",
       "      <th>0</th>\n",
       "      <td>1e9e8ef04dbcff4541ed26657ea517e5</td>\n",
       "      <td>perfumaria</td>\n",
       "      <td>40.0</td>\n",
       "      <td>287.0</td>\n",
       "      <td>1.0</td>\n",
       "      <td>225.0</td>\n",
       "      <td>16.0</td>\n",
       "      <td>10.0</td>\n",
       "      <td>14.0</td>\n",
       "    </tr>\n",
       "    <tr>\n",
       "      <th>1</th>\n",
       "      <td>3aa071139cb16b67ca9e5dea641aaa2f</td>\n",
       "      <td>artes</td>\n",
       "      <td>44.0</td>\n",
       "      <td>276.0</td>\n",
       "      <td>1.0</td>\n",
       "      <td>1000.0</td>\n",
       "      <td>30.0</td>\n",
       "      <td>18.0</td>\n",
       "      <td>20.0</td>\n",
       "    </tr>\n",
       "    <tr>\n",
       "      <th>2</th>\n",
       "      <td>96bd76ec8810374ed1b65e291975717f</td>\n",
       "      <td>esporte_lazer</td>\n",
       "      <td>46.0</td>\n",
       "      <td>250.0</td>\n",
       "      <td>1.0</td>\n",
       "      <td>154.0</td>\n",
       "      <td>18.0</td>\n",
       "      <td>9.0</td>\n",
       "      <td>15.0</td>\n",
       "    </tr>\n",
       "    <tr>\n",
       "      <th>3</th>\n",
       "      <td>cef67bcfe19066a932b7673e239eb23d</td>\n",
       "      <td>bebes</td>\n",
       "      <td>27.0</td>\n",
       "      <td>261.0</td>\n",
       "      <td>1.0</td>\n",
       "      <td>371.0</td>\n",
       "      <td>26.0</td>\n",
       "      <td>4.0</td>\n",
       "      <td>26.0</td>\n",
       "    </tr>\n",
       "    <tr>\n",
       "      <th>4</th>\n",
       "      <td>9dc1a7de274444849c219cff195d0b71</td>\n",
       "      <td>utilidades_domesticas</td>\n",
       "      <td>37.0</td>\n",
       "      <td>402.0</td>\n",
       "      <td>4.0</td>\n",
       "      <td>625.0</td>\n",
       "      <td>20.0</td>\n",
       "      <td>17.0</td>\n",
       "      <td>13.0</td>\n",
       "    </tr>\n",
       "  </tbody>\n",
       "</table>\n",
       "</div>"
      ],
      "text/plain": [
       "                         product_id  product_category_name  \\\n",
       "0  1e9e8ef04dbcff4541ed26657ea517e5             perfumaria   \n",
       "1  3aa071139cb16b67ca9e5dea641aaa2f                  artes   \n",
       "2  96bd76ec8810374ed1b65e291975717f          esporte_lazer   \n",
       "3  cef67bcfe19066a932b7673e239eb23d                  bebes   \n",
       "4  9dc1a7de274444849c219cff195d0b71  utilidades_domesticas   \n",
       "\n",
       "   product_name_lenght  product_description_lenght  product_photos_qty  \\\n",
       "0                 40.0                       287.0                 1.0   \n",
       "1                 44.0                       276.0                 1.0   \n",
       "2                 46.0                       250.0                 1.0   \n",
       "3                 27.0                       261.0                 1.0   \n",
       "4                 37.0                       402.0                 4.0   \n",
       "\n",
       "   product_weight_g  product_length_cm  product_height_cm  product_width_cm  \n",
       "0             225.0               16.0               10.0              14.0  \n",
       "1            1000.0               30.0               18.0              20.0  \n",
       "2             154.0               18.0                9.0              15.0  \n",
       "3             371.0               26.0                4.0              26.0  \n",
       "4             625.0               20.0               17.0              13.0  "
      ]
     },
     "execution_count": 29,
     "metadata": {},
     "output_type": "execute_result"
    }
   ],
   "source": [
    "products.head()"
   ]
  },
  {
   "cell_type": "code",
   "execution_count": 30,
   "id": "3175f345",
   "metadata": {},
   "outputs": [
    {
     "data": {
      "text/html": [
       "<div>\n",
       "<style scoped>\n",
       "    .dataframe tbody tr th:only-of-type {\n",
       "        vertical-align: middle;\n",
       "    }\n",
       "\n",
       "    .dataframe tbody tr th {\n",
       "        vertical-align: top;\n",
       "    }\n",
       "\n",
       "    .dataframe thead th {\n",
       "        text-align: right;\n",
       "    }\n",
       "</style>\n",
       "<table border=\"1\" class=\"dataframe\">\n",
       "  <thead>\n",
       "    <tr style=\"text-align: right;\">\n",
       "      <th></th>\n",
       "      <th>product_id</th>\n",
       "      <th>product_category_name</th>\n",
       "      <th>product_name_lenght</th>\n",
       "      <th>product_description_lenght</th>\n",
       "      <th>product_photos_qty</th>\n",
       "      <th>product_weight_g</th>\n",
       "      <th>product_length_cm</th>\n",
       "      <th>product_height_cm</th>\n",
       "      <th>product_width_cm</th>\n",
       "      <th>product_category_name_english</th>\n",
       "    </tr>\n",
       "  </thead>\n",
       "  <tbody>\n",
       "    <tr>\n",
       "      <th>0</th>\n",
       "      <td>1e9e8ef04dbcff4541ed26657ea517e5</td>\n",
       "      <td>perfumaria</td>\n",
       "      <td>40.0</td>\n",
       "      <td>287.0</td>\n",
       "      <td>1.0</td>\n",
       "      <td>225.0</td>\n",
       "      <td>16.0</td>\n",
       "      <td>10.0</td>\n",
       "      <td>14.0</td>\n",
       "      <td>perfumery</td>\n",
       "    </tr>\n",
       "    <tr>\n",
       "      <th>1</th>\n",
       "      <td>3aa071139cb16b67ca9e5dea641aaa2f</td>\n",
       "      <td>artes</td>\n",
       "      <td>44.0</td>\n",
       "      <td>276.0</td>\n",
       "      <td>1.0</td>\n",
       "      <td>1000.0</td>\n",
       "      <td>30.0</td>\n",
       "      <td>18.0</td>\n",
       "      <td>20.0</td>\n",
       "      <td>art</td>\n",
       "    </tr>\n",
       "    <tr>\n",
       "      <th>2</th>\n",
       "      <td>96bd76ec8810374ed1b65e291975717f</td>\n",
       "      <td>esporte_lazer</td>\n",
       "      <td>46.0</td>\n",
       "      <td>250.0</td>\n",
       "      <td>1.0</td>\n",
       "      <td>154.0</td>\n",
       "      <td>18.0</td>\n",
       "      <td>9.0</td>\n",
       "      <td>15.0</td>\n",
       "      <td>sports_leisure</td>\n",
       "    </tr>\n",
       "    <tr>\n",
       "      <th>3</th>\n",
       "      <td>cef67bcfe19066a932b7673e239eb23d</td>\n",
       "      <td>bebes</td>\n",
       "      <td>27.0</td>\n",
       "      <td>261.0</td>\n",
       "      <td>1.0</td>\n",
       "      <td>371.0</td>\n",
       "      <td>26.0</td>\n",
       "      <td>4.0</td>\n",
       "      <td>26.0</td>\n",
       "      <td>baby</td>\n",
       "    </tr>\n",
       "    <tr>\n",
       "      <th>4</th>\n",
       "      <td>9dc1a7de274444849c219cff195d0b71</td>\n",
       "      <td>utilidades_domesticas</td>\n",
       "      <td>37.0</td>\n",
       "      <td>402.0</td>\n",
       "      <td>4.0</td>\n",
       "      <td>625.0</td>\n",
       "      <td>20.0</td>\n",
       "      <td>17.0</td>\n",
       "      <td>13.0</td>\n",
       "      <td>housewares</td>\n",
       "    </tr>\n",
       "  </tbody>\n",
       "</table>\n",
       "</div>"
      ],
      "text/plain": [
       "                         product_id  product_category_name  \\\n",
       "0  1e9e8ef04dbcff4541ed26657ea517e5             perfumaria   \n",
       "1  3aa071139cb16b67ca9e5dea641aaa2f                  artes   \n",
       "2  96bd76ec8810374ed1b65e291975717f          esporte_lazer   \n",
       "3  cef67bcfe19066a932b7673e239eb23d                  bebes   \n",
       "4  9dc1a7de274444849c219cff195d0b71  utilidades_domesticas   \n",
       "\n",
       "   product_name_lenght  product_description_lenght  product_photos_qty  \\\n",
       "0                 40.0                       287.0                 1.0   \n",
       "1                 44.0                       276.0                 1.0   \n",
       "2                 46.0                       250.0                 1.0   \n",
       "3                 27.0                       261.0                 1.0   \n",
       "4                 37.0                       402.0                 4.0   \n",
       "\n",
       "   product_weight_g  product_length_cm  product_height_cm  product_width_cm  \\\n",
       "0             225.0               16.0               10.0              14.0   \n",
       "1            1000.0               30.0               18.0              20.0   \n",
       "2             154.0               18.0                9.0              15.0   \n",
       "3             371.0               26.0                4.0              26.0   \n",
       "4             625.0               20.0               17.0              13.0   \n",
       "\n",
       "  product_category_name_english  \n",
       "0                     perfumery  \n",
       "1                           art  \n",
       "2                sports_leisure  \n",
       "3                          baby  \n",
       "4                    housewares  "
      ]
     },
     "execution_count": 30,
     "metadata": {},
     "output_type": "execute_result"
    }
   ],
   "source": [
    "# Merge English category names from cat_name_trans into products\n",
    "products = products.merge(\n",
    "    cat_name_trans.rename(columns={'product_category_name': 'product_category_name', 'product_category_name_english': 'product_category_name_english'}),\n",
    "    on='product_category_name',\n",
    "    how='left'\n",
    ")\n",
    "\n",
    "products.head()"
   ]
  },
  {
   "cell_type": "code",
   "execution_count": 31,
   "id": "1007f3bf",
   "metadata": {},
   "outputs": [
    {
     "name": "stdout",
     "output_type": "stream",
     "text": [
      "<class 'pandas.core.frame.DataFrame'>\n",
      "RangeIndex: 32951 entries, 0 to 32950\n",
      "Data columns (total 10 columns):\n",
      " #   Column                         Non-Null Count  Dtype  \n",
      "---  ------                         --------------  -----  \n",
      " 0   product_id                     32951 non-null  object \n",
      " 1   product_category_name          32341 non-null  object \n",
      " 2   product_name_lenght            32341 non-null  float64\n",
      " 3   product_description_lenght     32341 non-null  float64\n",
      " 4   product_photos_qty             32341 non-null  float64\n",
      " 5   product_weight_g               32949 non-null  float64\n",
      " 6   product_length_cm              32949 non-null  float64\n",
      " 7   product_height_cm              32949 non-null  float64\n",
      " 8   product_width_cm               32949 non-null  float64\n",
      " 9   product_category_name_english  32328 non-null  object \n",
      "dtypes: float64(7), object(3)\n",
      "memory usage: 2.5+ MB\n"
     ]
    }
   ],
   "source": [
    "products.info()"
   ]
  },
  {
   "cell_type": "code",
   "execution_count": 32,
   "id": "249910e2",
   "metadata": {},
   "outputs": [
    {
     "data": {
      "text/plain": [
       "product_id                         0\n",
       "product_category_name            610\n",
       "product_name_lenght              610\n",
       "product_description_lenght       610\n",
       "product_photos_qty               610\n",
       "product_weight_g                   2\n",
       "product_length_cm                  2\n",
       "product_height_cm                  2\n",
       "product_width_cm                   2\n",
       "product_category_name_english    623\n",
       "dtype: int64"
      ]
     },
     "execution_count": 32,
     "metadata": {},
     "output_type": "execute_result"
    }
   ],
   "source": [
    "products.isna().sum()"
   ]
  },
  {
   "cell_type": "code",
   "execution_count": 33,
   "id": "359b058d",
   "metadata": {},
   "outputs": [
    {
     "data": {
      "text/plain": [
       "32951"
      ]
     },
     "execution_count": 33,
     "metadata": {},
     "output_type": "execute_result"
    }
   ],
   "source": [
    "len(products['product_id'].unique())"
   ]
  },
  {
   "cell_type": "code",
   "execution_count": 34,
   "id": "f7a3e0c8",
   "metadata": {},
   "outputs": [
    {
     "data": {
      "text/plain": [
       "72"
      ]
     },
     "execution_count": 34,
     "metadata": {},
     "output_type": "execute_result"
    }
   ],
   "source": [
    "len(products['product_category_name_english'].unique())"
   ]
  },
  {
   "cell_type": "markdown",
   "id": "2e514f79",
   "metadata": {},
   "source": [
    "It means  a product ID has multiple categories associated. We may say 74 product categories has 32951 products associated."
   ]
  },
  {
   "cell_type": "markdown",
   "id": "5eaa1137",
   "metadata": {},
   "source": [
    "# Analyse Payment\n"
   ]
  },
  {
   "cell_type": "code",
   "execution_count": 135,
   "id": "39d58ab6",
   "metadata": {},
   "outputs": [
    {
     "data": {
      "text/html": [
       "<div>\n",
       "<style scoped>\n",
       "    .dataframe tbody tr th:only-of-type {\n",
       "        vertical-align: middle;\n",
       "    }\n",
       "\n",
       "    .dataframe tbody tr th {\n",
       "        vertical-align: top;\n",
       "    }\n",
       "\n",
       "    .dataframe thead th {\n",
       "        text-align: right;\n",
       "    }\n",
       "</style>\n",
       "<table border=\"1\" class=\"dataframe\">\n",
       "  <thead>\n",
       "    <tr style=\"text-align: right;\">\n",
       "      <th></th>\n",
       "      <th>order_id</th>\n",
       "      <th>payment_sequential</th>\n",
       "      <th>payment_type</th>\n",
       "      <th>payment_installments</th>\n",
       "      <th>payment_value</th>\n",
       "    </tr>\n",
       "  </thead>\n",
       "  <tbody>\n",
       "    <tr>\n",
       "      <th>0</th>\n",
       "      <td>b81ef226f3fe1789b1e8b2acac839d17</td>\n",
       "      <td>1</td>\n",
       "      <td>credit_card</td>\n",
       "      <td>8</td>\n",
       "      <td>99.33</td>\n",
       "    </tr>\n",
       "    <tr>\n",
       "      <th>1</th>\n",
       "      <td>a9810da82917af2d9aefd1278f1dcfa0</td>\n",
       "      <td>1</td>\n",
       "      <td>credit_card</td>\n",
       "      <td>1</td>\n",
       "      <td>24.39</td>\n",
       "    </tr>\n",
       "    <tr>\n",
       "      <th>2</th>\n",
       "      <td>25e8ea4e93396b6fa0d3dd708e76c1bd</td>\n",
       "      <td>1</td>\n",
       "      <td>credit_card</td>\n",
       "      <td>1</td>\n",
       "      <td>65.71</td>\n",
       "    </tr>\n",
       "    <tr>\n",
       "      <th>3</th>\n",
       "      <td>ba78997921bbcdc1373bb41e913ab953</td>\n",
       "      <td>1</td>\n",
       "      <td>credit_card</td>\n",
       "      <td>8</td>\n",
       "      <td>107.78</td>\n",
       "    </tr>\n",
       "    <tr>\n",
       "      <th>4</th>\n",
       "      <td>42fdf880ba16b47b59251dd489d4441a</td>\n",
       "      <td>1</td>\n",
       "      <td>credit_card</td>\n",
       "      <td>2</td>\n",
       "      <td>128.45</td>\n",
       "    </tr>\n",
       "  </tbody>\n",
       "</table>\n",
       "</div>"
      ],
      "text/plain": [
       "                           order_id  payment_sequential payment_type  \\\n",
       "0  b81ef226f3fe1789b1e8b2acac839d17                   1  credit_card   \n",
       "1  a9810da82917af2d9aefd1278f1dcfa0                   1  credit_card   \n",
       "2  25e8ea4e93396b6fa0d3dd708e76c1bd                   1  credit_card   \n",
       "3  ba78997921bbcdc1373bb41e913ab953                   1  credit_card   \n",
       "4  42fdf880ba16b47b59251dd489d4441a                   1  credit_card   \n",
       "\n",
       "   payment_installments  payment_value  \n",
       "0                     8          99.33  \n",
       "1                     1          24.39  \n",
       "2                     1          65.71  \n",
       "3                     8         107.78  \n",
       "4                     2         128.45  "
      ]
     },
     "execution_count": 135,
     "metadata": {},
     "output_type": "execute_result"
    }
   ],
   "source": [
    "payments.head()"
   ]
  },
  {
   "cell_type": "code",
   "execution_count": 136,
   "id": "1023e0e4",
   "metadata": {},
   "outputs": [
    {
     "data": {
      "text/plain": [
       "order_id                0\n",
       "payment_sequential      0\n",
       "payment_type            0\n",
       "payment_installments    0\n",
       "payment_value           0\n",
       "dtype: int64"
      ]
     },
     "execution_count": 136,
     "metadata": {},
     "output_type": "execute_result"
    }
   ],
   "source": [
    "payments.isna().sum()"
   ]
  },
  {
   "cell_type": "code",
   "execution_count": 138,
   "id": "18e30903",
   "metadata": {},
   "outputs": [
    {
     "name": "stdout",
     "output_type": "stream",
     "text": [
      "<class 'pandas.core.frame.DataFrame'>\n",
      "RangeIndex: 103886 entries, 0 to 103885\n",
      "Data columns (total 5 columns):\n",
      " #   Column                Non-Null Count   Dtype  \n",
      "---  ------                --------------   -----  \n",
      " 0   order_id              103886 non-null  object \n",
      " 1   payment_sequential    103886 non-null  int64  \n",
      " 2   payment_type          103886 non-null  object \n",
      " 3   payment_installments  103886 non-null  int64  \n",
      " 4   payment_value         103886 non-null  float64\n",
      "dtypes: float64(1), int64(2), object(2)\n",
      "memory usage: 4.0+ MB\n"
     ]
    }
   ],
   "source": [
    "payments.info()"
   ]
  },
  {
   "cell_type": "code",
   "execution_count": 146,
   "id": "760fd3bb",
   "metadata": {},
   "outputs": [
    {
     "data": {
      "text/html": [
       "<div>\n",
       "<style scoped>\n",
       "    .dataframe tbody tr th:only-of-type {\n",
       "        vertical-align: middle;\n",
       "    }\n",
       "\n",
       "    .dataframe tbody tr th {\n",
       "        vertical-align: top;\n",
       "    }\n",
       "\n",
       "    .dataframe thead th {\n",
       "        text-align: right;\n",
       "    }\n",
       "</style>\n",
       "<table border=\"1\" class=\"dataframe\">\n",
       "  <thead>\n",
       "    <tr style=\"text-align: right;\">\n",
       "      <th></th>\n",
       "      <th>order_id</th>\n",
       "      <th>payment_type</th>\n",
       "      <th>payment_installments</th>\n",
       "      <th>payment_value</th>\n",
       "    </tr>\n",
       "    <tr>\n",
       "      <th>payment_sequential</th>\n",
       "      <th></th>\n",
       "      <th></th>\n",
       "      <th></th>\n",
       "      <th></th>\n",
       "    </tr>\n",
       "  </thead>\n",
       "  <tbody>\n",
       "    <tr>\n",
       "      <th>1</th>\n",
       "      <td>97809</td>\n",
       "      <td>97809</td>\n",
       "      <td>97809</td>\n",
       "      <td>97809</td>\n",
       "    </tr>\n",
       "    <tr>\n",
       "      <th>2</th>\n",
       "      <td>1354</td>\n",
       "      <td>1354</td>\n",
       "      <td>1354</td>\n",
       "      <td>1354</td>\n",
       "    </tr>\n",
       "    <tr>\n",
       "      <th>3</th>\n",
       "      <td>150</td>\n",
       "      <td>150</td>\n",
       "      <td>150</td>\n",
       "      <td>150</td>\n",
       "    </tr>\n",
       "    <tr>\n",
       "      <th>4</th>\n",
       "      <td>54</td>\n",
       "      <td>54</td>\n",
       "      <td>54</td>\n",
       "      <td>54</td>\n",
       "    </tr>\n",
       "    <tr>\n",
       "      <th>5</th>\n",
       "      <td>24</td>\n",
       "      <td>24</td>\n",
       "      <td>24</td>\n",
       "      <td>24</td>\n",
       "    </tr>\n",
       "    <tr>\n",
       "      <th>6</th>\n",
       "      <td>20</td>\n",
       "      <td>20</td>\n",
       "      <td>20</td>\n",
       "      <td>20</td>\n",
       "    </tr>\n",
       "    <tr>\n",
       "      <th>7</th>\n",
       "      <td>9</td>\n",
       "      <td>9</td>\n",
       "      <td>9</td>\n",
       "      <td>9</td>\n",
       "    </tr>\n",
       "    <tr>\n",
       "      <th>8</th>\n",
       "      <td>7</td>\n",
       "      <td>7</td>\n",
       "      <td>7</td>\n",
       "      <td>7</td>\n",
       "    </tr>\n",
       "    <tr>\n",
       "      <th>9</th>\n",
       "      <td>1</td>\n",
       "      <td>1</td>\n",
       "      <td>1</td>\n",
       "      <td>1</td>\n",
       "    </tr>\n",
       "    <tr>\n",
       "      <th>10</th>\n",
       "      <td>5</td>\n",
       "      <td>5</td>\n",
       "      <td>5</td>\n",
       "      <td>5</td>\n",
       "    </tr>\n",
       "    <tr>\n",
       "      <th>11</th>\n",
       "      <td>2</td>\n",
       "      <td>2</td>\n",
       "      <td>2</td>\n",
       "      <td>2</td>\n",
       "    </tr>\n",
       "    <tr>\n",
       "      <th>14</th>\n",
       "      <td>1</td>\n",
       "      <td>1</td>\n",
       "      <td>1</td>\n",
       "      <td>1</td>\n",
       "    </tr>\n",
       "    <tr>\n",
       "      <th>15</th>\n",
       "      <td>1</td>\n",
       "      <td>1</td>\n",
       "      <td>1</td>\n",
       "      <td>1</td>\n",
       "    </tr>\n",
       "    <tr>\n",
       "      <th>17</th>\n",
       "      <td>1</td>\n",
       "      <td>1</td>\n",
       "      <td>1</td>\n",
       "      <td>1</td>\n",
       "    </tr>\n",
       "    <tr>\n",
       "      <th>19</th>\n",
       "      <td>1</td>\n",
       "      <td>1</td>\n",
       "      <td>1</td>\n",
       "      <td>1</td>\n",
       "    </tr>\n",
       "    <tr>\n",
       "      <th>27</th>\n",
       "      <td>1</td>\n",
       "      <td>1</td>\n",
       "      <td>1</td>\n",
       "      <td>1</td>\n",
       "    </tr>\n",
       "  </tbody>\n",
       "</table>\n",
       "</div>"
      ],
      "text/plain": [
       "                    order_id  payment_type  payment_installments  \\\n",
       "payment_sequential                                                 \n",
       "1                      97809         97809                 97809   \n",
       "2                       1354          1354                  1354   \n",
       "3                        150           150                   150   \n",
       "4                         54            54                    54   \n",
       "5                         24            24                    24   \n",
       "6                         20            20                    20   \n",
       "7                          9             9                     9   \n",
       "8                          7             7                     7   \n",
       "9                          1             1                     1   \n",
       "10                         5             5                     5   \n",
       "11                         2             2                     2   \n",
       "14                         1             1                     1   \n",
       "15                         1             1                     1   \n",
       "17                         1             1                     1   \n",
       "19                         1             1                     1   \n",
       "27                         1             1                     1   \n",
       "\n",
       "                    payment_value  \n",
       "payment_sequential                 \n",
       "1                           97809  \n",
       "2                            1354  \n",
       "3                             150  \n",
       "4                              54  \n",
       "5                              24  \n",
       "6                              20  \n",
       "7                               9  \n",
       "8                               7  \n",
       "9                               1  \n",
       "10                              5  \n",
       "11                              2  \n",
       "14                              1  \n",
       "15                              1  \n",
       "17                              1  \n",
       "19                              1  \n",
       "27                              1  "
      ]
     },
     "execution_count": 146,
     "metadata": {},
     "output_type": "execute_result"
    }
   ],
   "source": [
    "payments.groupby(payments['payment_sequential']).count()"
   ]
  },
  {
   "cell_type": "code",
   "execution_count": 139,
   "id": "1724914f",
   "metadata": {},
   "outputs": [
    {
     "data": {
      "text/plain": [
       "99440"
      ]
     },
     "execution_count": 139,
     "metadata": {},
     "output_type": "execute_result"
    }
   ],
   "source": [
    "len(payments['order_id'].unique())"
   ]
  },
  {
   "cell_type": "markdown",
   "id": "b69ca6a6",
   "metadata": {},
   "source": [
    "There are 99440 unique orders it."
   ]
  },
  {
   "cell_type": "markdown",
   "id": "b1e7f7e7",
   "metadata": {},
   "source": [
    "The `payment_sequential` column in the `payments` table indicates the sequence number of the payment for a given order. If an order was paid in multiple installments or with multiple payment methods, each payment is recorded with a sequential number (1 for the first payment, 2 for the second, etc.). If for most orders, this value is 1, meaning there was only one payment transaction for that order."
   ]
  },
  {
   "cell_type": "code",
   "execution_count": 149,
   "id": "e878747c",
   "metadata": {},
   "outputs": [
    {
     "name": "stdout",
     "output_type": "stream",
     "text": [
      "Payment sequential statistics:\n",
      "    payment_sequential  orders_count  percentage_orders\n",
      "0                    1         99360          95.643301\n",
      "1                    2          3039           2.925322\n",
      "2                    3           581           0.559267\n",
      "3                    4           278           0.267601\n",
      "4                    5           170           0.163641\n",
      "5                    6           118           0.113586\n",
      "6                    7            82           0.078933\n",
      "7                    8            54           0.051980\n",
      "8                    9            43           0.041392\n",
      "9                   10            34           0.032728\n",
      "10                  11            29           0.027915\n",
      "11                  12            21           0.020214\n",
      "12                  13            13           0.012514\n",
      "13                  14            10           0.009626\n",
      "14                  15             8           0.007701\n",
      "15                  16             6           0.005776\n",
      "16                  17             6           0.005776\n",
      "17                  18             6           0.005776\n",
      "18                  19             6           0.005776\n",
      "19                  20             4           0.003850\n",
      "20                  21             4           0.003850\n",
      "21                  22             3           0.002888\n",
      "22                  23             2           0.001925\n",
      "23                  24             2           0.001925\n",
      "24                  25             2           0.001925\n",
      "25                  26             2           0.001925\n",
      "26                  27             1           0.000963\n",
      "27                  28             1           0.000963\n",
      "28                  29             1           0.000963\n"
     ]
    }
   ],
   "source": [
    "# Calculate count and percentage for each payment_sequential value\n",
    "sequential_stats = payments['payment_sequential'].value_counts().sort_index().reset_index()\n",
    "sequential_stats.columns = ['payment_sequential', 'orders_count']\n",
    "sequential_stats['percentage_orders'] = (sequential_stats['orders_count'] / len(payments)) * 100\n",
    "\n",
    "print(\"Payment sequential statistics:\")\n",
    "print(sequential_stats)"
   ]
  },
  {
   "cell_type": "markdown",
   "id": "2fcf07fb",
   "metadata": {},
   "source": [
    "**This is why we have duplicate orders, but I still not sure howw this can help or why used, so I am leaving it and analysing orders, payments and payment behaviour.**"
   ]
  },
  {
   "cell_type": "code",
   "execution_count": 140,
   "id": "6bc50bbf",
   "metadata": {},
   "outputs": [],
   "source": [
    "payments.drop_duplicates('order_id', inplace = True)"
   ]
  },
  {
   "cell_type": "code",
   "execution_count": 141,
   "id": "a5915a7d",
   "metadata": {},
   "outputs": [
    {
     "name": "stdout",
     "output_type": "stream",
     "text": [
      "<class 'pandas.core.frame.DataFrame'>\n",
      "Index: 99440 entries, 0 to 103885\n",
      "Data columns (total 5 columns):\n",
      " #   Column                Non-Null Count  Dtype  \n",
      "---  ------                --------------  -----  \n",
      " 0   order_id              99440 non-null  object \n",
      " 1   payment_sequential    99440 non-null  int64  \n",
      " 2   payment_type          99440 non-null  object \n",
      " 3   payment_installments  99440 non-null  int64  \n",
      " 4   payment_value         99440 non-null  float64\n",
      "dtypes: float64(1), int64(2), object(2)\n",
      "memory usage: 4.6+ MB\n"
     ]
    }
   ],
   "source": [
    "payments.info()"
   ]
  },
  {
   "cell_type": "code",
   "execution_count": 145,
   "id": "2998d559",
   "metadata": {},
   "outputs": [
    {
     "data": {
      "text/plain": [
       "count    99440.000000\n",
       "mean       158.334781\n",
       "std        219.518488\n",
       "min          0.000000\n",
       "25%         60.050000\n",
       "50%        103.350000\n",
       "75%        175.130000\n",
       "max      13664.080000\n",
       "Name: payment_value, dtype: float64"
      ]
     },
     "execution_count": 145,
     "metadata": {},
     "output_type": "execute_result"
    }
   ],
   "source": [
    "payments['payment_value'].describe()"
   ]
  },
  {
   "cell_type": "code",
   "execution_count": 143,
   "id": "94e267ff",
   "metadata": {},
   "outputs": [
    {
     "name": "stdout",
     "output_type": "stream",
     "text": [
      "Payment method statistics:\n",
      "  payment_type  orders_count  avg_payment_value  percentage_orders\n",
      "0       boleto         19784         145.034435          19.895414\n",
      "1  credit_card         75387         164.733738          75.811545\n",
      "2   debit_card          1527         142.711061           1.535599\n",
      "3  not_defined             3           0.000000           0.003017\n",
      "4      voucher          2739          87.165849           2.754425\n"
     ]
    }
   ],
   "source": [
    "# Analyse payment methods: count, percentage, and average payment value\n",
    "payment_method_stats = payments.groupby('payment_type').agg(\n",
    "    orders_count=('order_id', 'count'),\n",
    "    avg_payment_value=('payment_value', 'mean')\n",
    ").reset_index()\n",
    "payment_method_stats['percentage_orders'] = (payment_method_stats['orders_count'] / len(payments)) * 100\n",
    "\n",
    "print(\"Payment method statistics:\")\n",
    "print(payment_method_stats)\n"
   ]
  },
  {
   "cell_type": "markdown",
   "id": "518a2b4f",
   "metadata": {},
   "source": [
    "75% percent customers prefer creddit cards with average payment 164. And 3 orders payed no money for orders."
   ]
  },
  {
   "cell_type": "code",
   "execution_count": 144,
   "id": "4bb53524",
   "metadata": {},
   "outputs": [
    {
     "name": "stdout",
     "output_type": "stream",
     "text": [
      "\n",
      "Installment statistics:\n",
      "    payment_installments  orders_count  avg_payment_value  percentage_orders\n",
      "0                      0             2          94.315000           0.002011\n",
      "1                      1         48664         118.005281          48.938053\n",
      "2                      2         12250         127.617989          12.318986\n",
      "3                      3         10349         143.063285          10.407281\n",
      "4                      4          7028         164.323569           7.067578\n",
      "5                      5          5193         183.343953           5.222245\n",
      "6                      6          3879         210.338920           3.900845\n",
      "7                      7          1608         187.906754           1.617056\n",
      "8                      8          4229         307.834209           4.252816\n",
      "9                      9           639         203.759092           0.642599\n",
      "10                    10          5261         414.493055           5.290628\n",
      "11                    11            23         124.932174           0.023130\n",
      "12                    12           132         322.247652           0.132743\n",
      "13                    13            16         150.462500           0.016090\n",
      "14                    14            14         169.273571           0.014079\n",
      "15                    15            73         432.759178           0.073411\n",
      "16                    16             5         292.694000           0.005028\n",
      "17                    17             8         174.602500           0.008045\n",
      "18                    18            27         486.483333           0.027152\n",
      "19                    20            17         615.801765           0.017096\n",
      "20                    21             3         243.700000           0.003017\n",
      "21                    22             1         228.710000           0.001006\n",
      "22                    23             1         236.480000           0.001006\n",
      "23                    24            18         610.048889           0.018101\n"
     ]
    }
   ],
   "source": [
    "# Analyse by installments: average payment value, orders count, and percentage of orders\n",
    "installment_stats = payments.groupby('payment_installments').agg(\n",
    "    orders_count=('order_id', 'count'),\n",
    "    avg_payment_value=('payment_value', 'mean')\n",
    ").reset_index()\n",
    "installment_stats['percentage_orders'] = (installment_stats['orders_count'] / len(payments)) * 100\n",
    "\n",
    "print(\"\\nInstallment statistics:\")\n",
    "print(installment_stats)"
   ]
  },
  {
   "cell_type": "markdown",
   "id": "1c1116d2",
   "metadata": {},
   "source": [
    "~48% orders prefer 1 installment with 118 avg payment value, and 70% orders prefer upto 3 installments with average payment value ~130."
   ]
  },
  {
   "cell_type": "markdown",
   "id": "01a6a96f",
   "metadata": {},
   "source": [
    "# Analyse Reviews"
   ]
  },
  {
   "cell_type": "code",
   "execution_count": 150,
   "id": "849bf530",
   "metadata": {},
   "outputs": [
    {
     "data": {
      "text/html": [
       "<div>\n",
       "<style scoped>\n",
       "    .dataframe tbody tr th:only-of-type {\n",
       "        vertical-align: middle;\n",
       "    }\n",
       "\n",
       "    .dataframe tbody tr th {\n",
       "        vertical-align: top;\n",
       "    }\n",
       "\n",
       "    .dataframe thead th {\n",
       "        text-align: right;\n",
       "    }\n",
       "</style>\n",
       "<table border=\"1\" class=\"dataframe\">\n",
       "  <thead>\n",
       "    <tr style=\"text-align: right;\">\n",
       "      <th></th>\n",
       "      <th>review_id</th>\n",
       "      <th>order_id</th>\n",
       "      <th>review_score</th>\n",
       "      <th>review_comment_title</th>\n",
       "      <th>review_comment_message</th>\n",
       "      <th>review_creation_date</th>\n",
       "      <th>review_answer_timestamp</th>\n",
       "    </tr>\n",
       "  </thead>\n",
       "  <tbody>\n",
       "    <tr>\n",
       "      <th>0</th>\n",
       "      <td>7bc2406110b926393aa56f80a40eba40</td>\n",
       "      <td>73fc7af87114b39712e6da79b0a377eb</td>\n",
       "      <td>4</td>\n",
       "      <td>NaN</td>\n",
       "      <td>NaN</td>\n",
       "      <td>2018-01-18 00:00:00</td>\n",
       "      <td>2018-01-18 21:46:59</td>\n",
       "    </tr>\n",
       "    <tr>\n",
       "      <th>1</th>\n",
       "      <td>80e641a11e56f04c1ad469d5645fdfde</td>\n",
       "      <td>a548910a1c6147796b98fdf73dbeba33</td>\n",
       "      <td>5</td>\n",
       "      <td>NaN</td>\n",
       "      <td>NaN</td>\n",
       "      <td>2018-03-10 00:00:00</td>\n",
       "      <td>2018-03-11 03:05:13</td>\n",
       "    </tr>\n",
       "    <tr>\n",
       "      <th>2</th>\n",
       "      <td>228ce5500dc1d8e020d8d1322874b6f0</td>\n",
       "      <td>f9e4b658b201a9f2ecdecbb34bed034b</td>\n",
       "      <td>5</td>\n",
       "      <td>NaN</td>\n",
       "      <td>NaN</td>\n",
       "      <td>2018-02-17 00:00:00</td>\n",
       "      <td>2018-02-18 14:36:24</td>\n",
       "    </tr>\n",
       "    <tr>\n",
       "      <th>3</th>\n",
       "      <td>e64fb393e7b32834bb789ff8bb30750e</td>\n",
       "      <td>658677c97b385a9be170737859d3511b</td>\n",
       "      <td>5</td>\n",
       "      <td>NaN</td>\n",
       "      <td>Recebi bem antes do prazo estipulado.</td>\n",
       "      <td>2017-04-21 00:00:00</td>\n",
       "      <td>2017-04-21 22:02:06</td>\n",
       "    </tr>\n",
       "    <tr>\n",
       "      <th>4</th>\n",
       "      <td>f7c4243c7fe1938f181bec41a392bdeb</td>\n",
       "      <td>8e6bfb81e283fa7e4f11123a3fb894f1</td>\n",
       "      <td>5</td>\n",
       "      <td>NaN</td>\n",
       "      <td>Parabéns lojas lannister adorei comprar pela I...</td>\n",
       "      <td>2018-03-01 00:00:00</td>\n",
       "      <td>2018-03-02 10:26:53</td>\n",
       "    </tr>\n",
       "  </tbody>\n",
       "</table>\n",
       "</div>"
      ],
      "text/plain": [
       "                          review_id                          order_id  \\\n",
       "0  7bc2406110b926393aa56f80a40eba40  73fc7af87114b39712e6da79b0a377eb   \n",
       "1  80e641a11e56f04c1ad469d5645fdfde  a548910a1c6147796b98fdf73dbeba33   \n",
       "2  228ce5500dc1d8e020d8d1322874b6f0  f9e4b658b201a9f2ecdecbb34bed034b   \n",
       "3  e64fb393e7b32834bb789ff8bb30750e  658677c97b385a9be170737859d3511b   \n",
       "4  f7c4243c7fe1938f181bec41a392bdeb  8e6bfb81e283fa7e4f11123a3fb894f1   \n",
       "\n",
       "   review_score review_comment_title  \\\n",
       "0             4                  NaN   \n",
       "1             5                  NaN   \n",
       "2             5                  NaN   \n",
       "3             5                  NaN   \n",
       "4             5                  NaN   \n",
       "\n",
       "                              review_comment_message review_creation_date  \\\n",
       "0                                                NaN  2018-01-18 00:00:00   \n",
       "1                                                NaN  2018-03-10 00:00:00   \n",
       "2                                                NaN  2018-02-17 00:00:00   \n",
       "3              Recebi bem antes do prazo estipulado.  2017-04-21 00:00:00   \n",
       "4  Parabéns lojas lannister adorei comprar pela I...  2018-03-01 00:00:00   \n",
       "\n",
       "  review_answer_timestamp  \n",
       "0     2018-01-18 21:46:59  \n",
       "1     2018-03-11 03:05:13  \n",
       "2     2018-02-18 14:36:24  \n",
       "3     2017-04-21 22:02:06  \n",
       "4     2018-03-02 10:26:53  "
      ]
     },
     "execution_count": 150,
     "metadata": {},
     "output_type": "execute_result"
    }
   ],
   "source": [
    "reviews.head()\n"
   ]
  },
  {
   "cell_type": "code",
   "execution_count": 155,
   "id": "da6748be",
   "metadata": {},
   "outputs": [
    {
     "name": "stdout",
     "output_type": "stream",
     "text": [
      "<class 'pandas.core.frame.DataFrame'>\n",
      "RangeIndex: 99224 entries, 0 to 99223\n",
      "Data columns (total 7 columns):\n",
      " #   Column                   Non-Null Count  Dtype \n",
      "---  ------                   --------------  ----- \n",
      " 0   review_id                99224 non-null  object\n",
      " 1   order_id                 99224 non-null  object\n",
      " 2   review_score             99224 non-null  int64 \n",
      " 3   review_comment_title     11568 non-null  object\n",
      " 4   review_comment_message   40977 non-null  object\n",
      " 5   review_creation_date     99224 non-null  object\n",
      " 6   review_answer_timestamp  99224 non-null  object\n",
      "dtypes: int64(1), object(6)\n",
      "memory usage: 5.3+ MB\n"
     ]
    }
   ],
   "source": [
    "reviews.info()"
   ]
  },
  {
   "cell_type": "code",
   "execution_count": 151,
   "id": "db21eda6",
   "metadata": {},
   "outputs": [
    {
     "data": {
      "text/plain": [
       "review_id                      0\n",
       "order_id                       0\n",
       "review_score                   0\n",
       "review_comment_title       87656\n",
       "review_comment_message     58247\n",
       "review_creation_date           0\n",
       "review_answer_timestamp        0\n",
       "dtype: int64"
      ]
     },
     "execution_count": 151,
     "metadata": {},
     "output_type": "execute_result"
    }
   ],
   "source": [
    "reviews.isna().sum()"
   ]
  },
  {
   "cell_type": "markdown",
   "id": "4199e265",
   "metadata": {},
   "source": [
    "**We donn't need the columns with null values.**"
   ]
  },
  {
   "cell_type": "code",
   "execution_count": 164,
   "id": "558e314e",
   "metadata": {},
   "outputs": [
    {
     "name": "stdout",
     "output_type": "stream",
     "text": [
      "Review score distribution (counts):\n",
      "review_score\n",
      "1    11424\n",
      "2     3151\n",
      "3     8179\n",
      "4    19142\n",
      "5    57328\n",
      "Name: count, dtype: int64\n",
      "\n",
      "Review score distribution (percentage):\n",
      "review_score\n",
      "1    11.513344\n",
      "2     3.175643\n",
      "3     8.242965\n",
      "4    19.291704\n",
      "5    57.776344\n",
      "Name: count, dtype: float64\n"
     ]
    }
   ],
   "source": [
    "# Review score distribution\n",
    "review_score_counts = reviews['review_score'].value_counts().sort_index()\n",
    "review_score_percent = (review_score_counts / len(reviews)) * 100\n",
    "\n",
    "print(\"Review score distribution (counts):\")\n",
    "print(review_score_counts)\n",
    "print(\"\\nReview score distribution (percentage):\")\n",
    "print(review_score_percent)"
   ]
  },
  {
   "cell_type": "code",
   "execution_count": 166,
   "id": "e82d0191",
   "metadata": {},
   "outputs": [
    {
     "name": "stderr",
     "output_type": "stream",
     "text": [
      "C:\\Users\\ahmad\\AppData\\Local\\Temp\\ipykernel_22460\\4059861096.py:3: FutureWarning: \n",
      "\n",
      "Passing `palette` without assigning `hue` is deprecated and will be removed in v0.14.0. Assign the `x` variable to `hue` and set `legend=False` for the same effect.\n",
      "\n",
      "  ax = sns.barplot(x=review_score_counts.index, y=review_score_counts.values, palette=\"Blues_d\")\n"
     ]
    },
    {
     "data": {
      "image/png": "[encoded data removed]",
      "text/plain": [
       "<Figure size 800x400 with 1 Axes>"
      ]
     },
     "metadata": {},
     "output_type": "display_data"
    }
   ],
   "source": [
    "# Plot review score distribution with numbers on bars\n",
    "plt.figure(figsize=(8, 4))\n",
    "ax = sns.barplot(x=review_score_counts.index, y=review_score_counts.values, palette=\"Blues_d\")\n",
    "plt.xlabel('Review Score')\n",
    "plt.ylabel('Number of Reviews')\n",
    "plt.title('Distribution of Review Scores')\n",
    "\n",
    "# Add numbers on bars\n",
    "for p in ax.patches:\n",
    "    ax.annotate(f'{int(p.get_height())}', \n",
    "                (p.get_x() + p.get_width() / 2, p.get_height()), \n",
    "                ha='center', va='bottom', fontsize=10)\n",
    "\n",
    "plt.show()"
   ]
  },
  {
   "cell_type": "markdown",
   "id": "c15a8724",
   "metadata": {},
   "source": [
    "**5 star rating is only ~57% and 1 star is ~11%, we should degrade low quallity sellers on top and help small sellers below them to grow and improve rating.**"
   ]
  }
 ],
 "metadata": {
  "kernelspec": {
   "display_name": "base",
   "language": "python",
   "name": "python3"
  },
  "language_info": {
   "codemirror_mode": {
    "name": "ipython",
    "version": 3
   },
   "file_extension": ".py",
   "mimetype": "text/x-python",
   "name": "python",
   "nbconvert_exporter": "python",
   "pygments_lexer": "ipython3",
   "version": "3.13.5"
  }
 },
 "nbformat": 4,
 "nbformat_minor": 5
}
